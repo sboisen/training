{
 "cells": [
  {
   "cell_type": "markdown",
   "metadata": {
    "slideshow": {
     "slide_type": "slide"
    }
   },
   "source": [
    "# Think Python: Week 03\n",
    "\n",
    "Slides: http://github.com/sboisen/training/ThinkPython/Week03"
   ]
  },
  {
   "cell_type": "markdown",
   "metadata": {
    "slideshow": {
     "slide_type": "slide"
    }
   },
   "source": [
    "## Questions from last class or Chapter 3?"
   ]
  },
  {
   "cell_type": "markdown",
   "metadata": {
    "slideshow": {
     "slide_type": "slide"
    }
   },
   "source": [
    "## Goals for today\n",
    "\n",
    "* Shifting into high gear\n",
    "* Learn more basics of defining functions\n",
    "* Begin talking about coding *style*"
   ]
  },
  {
   "cell_type": "markdown",
   "metadata": {
    "slideshow": {
     "slide_type": "slide"
    }
   },
   "source": [
    "## Getting Started with Swampy\n",
    "\n",
    "* `pip`\n",
    "* search path\n",
    "* import notation"
   ]
  },
  {
   "cell_type": "code",
   "execution_count": null,
   "metadata": {
    "collapsed": false,
    "slideshow": {
     "slide_type": "subslide"
    }
   },
   "outputs": [],
   "source": [
    "from swampy import TurtleWorld as tw\n",
    "print tw"
   ]
  },
  {
   "cell_type": "markdown",
   "metadata": {
    "slideshow": {
     "slide_type": "slide"
    }
   },
   "source": [
    "## Shifting into Higher Gear\n",
    "\n",
    "- New function this week: `range`\n",
    "- `help(range)` is your friend\n",
    "- Ask if things aren't clear\n",
    "\n",
    "From this point on, i assume you can learn more about new functions on\n",
    "your own"
   ]
  },
  {
   "cell_type": "markdown",
   "metadata": {
    "slideshow": {
     "slide_type": "subslide"
    }
   },
   "source": [
    "## Pop quiz: `range`\n",
    "\n",
    "How can you print this out using a `for` loop and `range`?\n",
    "\n",
    "    2\n",
    "    4\n",
    "    6\n",
    "    8 "
   ]
  },
  {
   "cell_type": "code",
   "execution_count": null,
   "metadata": {
    "collapsed": false,
    "slideshow": {
     "slide_type": "fragment"
    }
   },
   "outputs": [],
   "source": [
    "for i in range(2, 9, 2): print i"
   ]
  },
  {
   "cell_type": "markdown",
   "metadata": {
    "slideshow": {
     "slide_type": "fragment"
    }
   },
   "source": [
    "Note: end point is omitted."
   ]
  },
  {
   "cell_type": "markdown",
   "metadata": {
    "slideshow": {
     "slide_type": "slide"
    }
   },
   "source": [
    "## Pop quiz: `for` loops "
   ]
  },
  {
   "cell_type": "code",
   "execution_count": null,
   "metadata": {
    "collapsed": false,
    "slideshow": {
     "slide_type": "subslide"
    }
   },
   "outputs": [],
   "source": [
    "for i in range(4):\n",
    "    print i\n",
    "    i = i * 2"
   ]
  },
  {
   "cell_type": "markdown",
   "metadata": {
    "slideshow": {
     "slide_type": "fragment"
    }
   },
   "source": [
    "(Code like this can be *very* confusing!)"
   ]
  },
  {
   "cell_type": "code",
   "execution_count": null,
   "metadata": {
    "collapsed": false,
    "slideshow": {
     "slide_type": "subslide"
    }
   },
   "outputs": [],
   "source": [
    "print i"
   ]
  },
  {
   "cell_type": "markdown",
   "metadata": {
    "slideshow": {
     "slide_type": "fragment"
    }
   },
   "source": [
    "* `i` is defined by the `for` loop, and it's *still* defined once the loop\n",
    "is done."
   ]
  },
  {
   "cell_type": "markdown",
   "metadata": {
    "slideshow": {
     "slide_type": "slide"
    }
   },
   "source": [
    "## Pop quiz: keyword args\n",
    "\n",
    "* When calling a function, you can supply arguments by position or by *keyword*. (Generalization)\n",
    "* Keywords provide more flexibility and help to document your code\n",
    "* Suggested best practice: **use keywords most of the time** for multiple arguments"
   ]
  },
  {
   "cell_type": "code",
   "execution_count": null,
   "metadata": {
    "collapsed": true,
    "slideshow": {
     "slide_type": "subslide"
    }
   },
   "outputs": [],
   "source": [
    "def ptest(p1, p2): \n",
    "    print 'p1 is', p1, '| p2 is', p2"
   ]
  },
  {
   "cell_type": "code",
   "execution_count": null,
   "metadata": {
    "collapsed": false,
    "slideshow": {
     "slide_type": "fragment"
    }
   },
   "outputs": [],
   "source": [
    "ptest('red', 'blue')"
   ]
  },
  {
   "cell_type": "code",
   "execution_count": null,
   "metadata": {
    "collapsed": false,
    "slideshow": {
     "slide_type": "fragment"
    }
   },
   "outputs": [],
   "source": [
    "ptest(p2='red', p1='blue')"
   ]
  },
  {
   "cell_type": "markdown",
   "metadata": {
    "slideshow": {
     "slide_type": "fragment"
    }
   },
   "source": [
    "* By using keyword arguments, you can supply them in *any* order"
   ]
  },
  {
   "cell_type": "code",
   "execution_count": null,
   "metadata": {
    "collapsed": false,
    "slideshow": {
     "slide_type": "subslide"
    }
   },
   "outputs": [],
   "source": [
    "ptest('red', p2='blue')"
   ]
  },
  {
   "cell_type": "markdown",
   "metadata": {
    "slideshow": {
     "slide_type": "fragment"
    }
   },
   "source": [
    "* You can mix positional and keyword args. \n",
    "  * Here, p1 is defined positionally, and p2 is defined by keyword."
   ]
  },
  {
   "cell_type": "code",
   "execution_count": null,
   "metadata": {
    "collapsed": false,
    "slideshow": {
     "slide_type": "subslide"
    }
   },
   "outputs": [],
   "source": [
    "ptest(p2='a', 'b')"
   ]
  },
  {
   "cell_type": "markdown",
   "metadata": {
    "slideshow": {
     "slide_type": "fragment"
    }
   },
   "source": [
    "* All keyword args have to come *after* positional args"
   ]
  },
  {
   "cell_type": "code",
   "execution_count": null,
   "metadata": {
    "collapsed": false,
    "slideshow": {
     "slide_type": "subslide"
    }
   },
   "outputs": [],
   "source": [
    "ptest(c1='red', c2='blue')"
   ]
  },
  {
   "cell_type": "markdown",
   "metadata": {
    "slideshow": {
     "slide_type": "slide"
    }
   },
   "source": [
    "## Import and `reload`\n",
    "\n",
    "* After either of these:\n",
    "\n",
    "        import foo\n",
    "        from bar import foo\n",
    "    \n",
    "you can use `reload(foo)` to dynamically update your code \\*\n",
    "\n",
    "\\* *Most* of the time"
   ]
  },
  {
   "cell_type": "markdown",
   "metadata": {
    "slideshow": {
     "slide_type": "slide"
    }
   },
   "source": [
    "## Coding Style: Encapsulation\n",
    "\n",
    "* Assigning a name to a sequence of operations helps you clarify and elevate your thinking\n",
    "  * Typically the highest cost in programming is **your thinking time**\n",
    "  * Might be appropriate for *even one line of code* if it's complex\n",
    "* The key to reuse\n",
    "* Only have one piece of code to debug and maintain\n",
    "* This is thinking like a computer scientist!"
   ]
  },
  {
   "cell_type": "markdown",
   "metadata": {
    "slideshow": {
     "slide_type": "subslide"
    }
   },
   "source": [
    "## Coding Style: Generalization and Refactoring\n",
    "\n",
    "* Finding the right division of labor between functions is a key programming skill\n",
    "* Develop the habit of identifying commonalities and factoring them out\n",
    "* Best practice: never define the same thing in more than one place"
   ]
  },
  {
   "cell_type": "markdown",
   "metadata": {
    "slideshow": {
     "slide_type": "subslide"
    }
   },
   "source": [
    "## Coding Style: Interface Design\n",
    "\n",
    "> The interface of a function is a summary of how it is used: what are the parameters? What does the function do? And what is the return value?\n",
    "\n",
    "* Thinking about the interface and refactoring as you develop is a critical part of writing code. "
   ]
  },
  {
   "cell_type": "markdown",
   "metadata": {
    "slideshow": {
     "slide_type": "slide"
    }
   },
   "source": [
    "## For Next Week\n",
    "\n",
    "* Read chapter 5\n",
    "* Don't look at solutions before you've failed for at least 10 minutes"
   ]
  },
  {
   "cell_type": "markdown",
   "metadata": {
    "slideshow": {
     "slide_type": "subslide"
    }
   },
   "source": [
    "## Additional Resources\n",
    "\n",
    "* Though articulated by [Larry Wall](http://en.wikipedia.org/wiki/Larry_Wall), the creator of Perl,\n",
    "[the Three Virtues of a Programmer](http://www.hhhh.org/wiml/virtues.html) (from [Programming in Perl](http://en.wikipedia.org/wiki/Programming_Perl)) are equally applicable to Python."
   ]
  }
 ],
 "metadata": {
  "celltoolbar": "Slideshow",
  "kernelspec": {
   "display_name": "Python 2",
   "language": "python",
   "name": "python2"
  },
  "language_info": {
   "codemirror_mode": {
    "name": "ipython",
    "version": 2
   },
   "file_extension": ".py",
   "mimetype": "text/x-python",
   "name": "python",
   "nbconvert_exporter": "python",
   "pygments_lexer": "ipython2",
   "version": "2.7.9"
  }
 },
 "nbformat": 4,
 "nbformat_minor": 0
}
