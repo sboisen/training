{
 "cells": [
  {
   "cell_type": "markdown",
   "metadata": {
    "slideshow": {
     "slide_type": "slide"
    }
   },
   "source": [
    "# Think Python: Week 08\n",
    "\n",
    "> Program testing can be used to show the presence of bugs, but never to show their absence! \n",
    ">\n",
    "> — [Edsger W. Dijkstra](https://en.wikipedia.org/wiki/Edsger_W._Dijkstra)\n",
    "\n",
    "Slides: http://github.com/sboisen/training/ThinkPython/Week08"
   ]
  },
  {
   "cell_type": "markdown",
   "metadata": {},
   "source": [
    "## No Class Next Week!"
   ]
  },
  {
   "cell_type": "markdown",
   "metadata": {
    "slideshow": {
     "slide_type": "slide"
    }
   },
   "source": [
    "## Chapter 9 Review Goals\n",
    "\n",
    "* File handling\n",
    "* \n"
   ]
  },
  {
   "cell_type": "markdown",
   "metadata": {
    "slideshow": {
     "slide_type": "slide"
    }
   },
   "source": [
    "## File Handling\n",
    "* File objects\n",
    "* `open()`\n",
    "* `readline()`\n",
    "* Character encoding"
   ]
  },
  {
   "cell_type": "markdown",
   "metadata": {
    "slideshow": {
     "slide_type": "subslide"
    }
   },
   "source": [
    "## Unicode\n",
    "- To read Unicode, you need to use an appropriate *codec*\n",
    "\n",
    "        import codecs\n",
    "        fin = codecs.open('uwords.txt', 'r', 'utf-8')\n",
    "\n",
    "- Best practice if you work with Unicode and ASCII: \n",
    "  * convert to Unicode at input boundaries\n",
    "  * always use Unicode internally\n"
   ]
  },
  {
   "cell_type": "code",
   "execution_count": null,
   "metadata": {
    "collapsed": false
   },
   "outputs": [],
   "source": [
    "print u'foo \\u0248 bar'"
   ]
  },
  {
   "cell_type": "markdown",
   "metadata": {
    "slideshow": {
     "slide_type": "slide"
    }
   },
   "source": [
    "### `is_abecedarian()` (Exercise 9.6)\n",
    "* The essential algorithmic\n",
    "* Recursion and other looping strategies"
   ]
  },
  {
   "cell_type": "code",
   "execution_count": null,
   "metadata": {
    "collapsed": true
   },
   "outputs": [],
   "source": [
    "def is_abecedarian(word):\n",
    "    # when am i done?\n",
    "    if word[1:] == '':\n",
    "        return True\n",
    "    elif word[0] <= word[1]:\n",
    "        return is_abecedarian(word[1:])\n",
    "    else:\n",
    "        return False"
   ]
  },
  {
   "cell_type": "markdown",
   "metadata": {
    "slideshow": {
     "slide_type": "subslide"
    }
   },
   "source": [
    "### Problem Recognition\n",
    "* `uses_only()` and `uses_all()`"
   ]
  },
  {
   "cell_type": "markdown",
   "metadata": {
    "slideshow": {
     "slide_type": "slide"
    }
   },
   "source": [
    "## Interesting Problems\n",
    "* Convert a list of Bible references to Biblia links\n",
    "* Filter a file into a subset of rows that match certain criteria\n",
    "* Group rows with a shared attribute into a new row\n",
    "* Combine a file with (user ID, name) and another with (user ID, address) into a single file\n",
    "\n",
    "Richer data structures will help"
   ]
  },
  {
   "cell_type": "markdown",
   "metadata": {
    "slideshow": {
     "slide_type": "slide"
    }
   },
   "source": [
    "## Biblia API\n",
    "\n",
    "* Generalizing `construct_url()` for multiple services\n",
    "* Printing each word of the text on its own line"
   ]
  },
  {
   "cell_type": "markdown",
   "metadata": {},
   "source": [
    "### Moving On\n",
    "- What have we hard-wired?\n",
    "- Add code for [the Scan service](http://api.biblia.com/docs/Bible_Scan)\n",
    "- How could we make this code more general?"
   ]
  },
  {
   "cell_type": "markdown",
   "metadata": {
    "slideshow": {
     "slide_type": "slide"
    }
   },
   "source": [
    "## For Next Time\n",
    "\n",
    "* Read chapter 10: Lists"
   ]
  },
  {
   "cell_type": "markdown",
   "metadata": {},
   "source": [
    "## Additional Resources\n",
    "\n",
    "* <img src=\"bd.png\" style=\"display: inline;\" />The [`decode()` string method](http://docs.python.org/library/stdtypes.html?#str.decode) decodes a string using the codec for a specific encoding.\n",
    "* <img src=\"bd.png\" style=\"display: inline;\" /><img src=\"bd.png\" style=\"display: inline;\" />[Unicode In Python, Completely Demystified](http://farmdev.com/talks/unicode/)"
   ]
  }
 ],
 "metadata": {
  "celltoolbar": "Slideshow",
  "kernelspec": {
   "display_name": "Python 2",
   "language": "python",
   "name": "python2"
  },
  "language_info": {
   "codemirror_mode": {
    "name": "ipython",
    "version": 2
   },
   "file_extension": ".py",
   "mimetype": "text/x-python",
   "name": "python",
   "nbconvert_exporter": "python",
   "pygments_lexer": "ipython2",
   "version": "2.7.9"
  }
 },
 "nbformat": 4,
 "nbformat_minor": 0
}
