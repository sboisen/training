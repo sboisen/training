{
 "cells": [
  {
   "cell_type": "markdown",
   "metadata": {
    "slideshow": {
     "slide_type": "slide"
    }
   },
   "source": [
    "# Think Python: Week 13\n",
    "\n",
    "Slides: http://github.com/sboisen/training/ThinkPython/Week13"
   ]
  },
  {
   "cell_type": "markdown",
   "metadata": {
    "slideshow": {
     "slide_type": "slide"
    }
   },
   "source": [
    "## Filesnames Vs. File Objects\n"
   ]
  },
  {
   "cell_type": "markdown",
   "metadata": {
    "slideshow": {
     "slide_type": "slide"
    }
   },
   "source": [
    "## Writing to File\n",
    "* Basic: open, write (and repeat), close\n",
    "* Handy: put `open` in a function call, which then closes it for you"
   ]
  },
  {
   "cell_type": "code",
   "execution_count": null,
   "metadata": {
    "collapsed": false,
    "slideshow": {
     "slide_type": "fragment"
    }
   },
   "outputs": [],
   "source": [
    "def write_stuff(stuff, outstr=None):\n",
    "    # probably more complex in real examples\n",
    "    for s in stuff:\n",
    "        print >> outstr, 'stuff: %s' % s\n",
    "        \n",
    "stuff = ['foo', 'bar', 'baz']\n",
    "# write to console\n",
    "write_stuff(stuff)\n",
    "# write to file: no close() required\n",
    "write_stuff(stuff, open('mystufffile.txt', 'w'))"
   ]
  },
  {
   "cell_type": "markdown",
   "metadata": {
    "slideshow": {
     "slide_type": "slide"
    }
   },
   "source": [
    "## Format Operator\n",
    "\n",
    "* Like a little programming language\n",
    "* Supports \n",
    "   * converting numbers to strings\n",
    "   * limiting floating point precision\n",
    "   * padding with 0s or characters\n",
    "   "
   ]
  },
  {
   "cell_type": "code",
   "execution_count": null,
   "metadata": {
    "collapsed": false,
    "slideshow": {
     "slide_type": "fragment"
    }
   },
   "outputs": [],
   "source": [
    "camels = 32\n",
    "# old style\n",
    "print '%d' % camels\n",
    "# new style\n",
    "print '{}'.format(camels)"
   ]
  },
  {
   "cell_type": "markdown",
   "metadata": {
    "slideshow": {
     "slide_type": "slide"
    }
   },
   "source": [
    "## Filenames and Paths\n",
    "* Don't treat filenames like strings! Use library functions instead"
   ]
  },
  {
   "cell_type": "code",
   "execution_count": null,
   "metadata": {
    "collapsed": false,
    "slideshow": {
     "slide_type": "fragment"
    }
   },
   "outputs": [],
   "source": [
    "import os\n",
    "mydir = '/Users/sboisen'\n",
    "mypathname = os.path.join(mydir, 'foo.txt')\n",
    "print mypathname\n",
    "print os.path.splitext(mypathname)"
   ]
  },
  {
   "cell_type": "markdown",
   "metadata": {
    "slideshow": {
     "slide_type": "slide"
    }
   },
   "source": [
    "## Pickle: Don't Use It\n",
    "\n",
    "* Only supports Python\n",
    "* Not everything is pickleable\n",
    "* Serialization != persistence\n",
    "* Not guaranteed portable across OS\n",
    "* Best practice is usually either\n",
    "    * Scripting the process to recreate your data and state\n",
    "    * Use a database (CI uses MySQL with Django)\n"
   ]
  },
  {
   "cell_type": "markdown",
   "metadata": {
    "slideshow": {
     "slide_type": "slide"
    }
   },
   "source": [
    "## Additional Resources\n",
    "\n",
    "* <img src=\"bd.png\" style=\"display: inline;\" />[% String Formatting Operator](https://docs.python.org/2/library/stdtypes.html#index-25)"
   ]
  }
 ],
 "metadata": {
  "celltoolbar": "Slideshow",
  "kernelspec": {
   "display_name": "Python 2",
   "language": "python",
   "name": "python2"
  },
  "language_info": {
   "codemirror_mode": {
    "name": "ipython",
    "version": 2
   },
   "file_extension": ".py",
   "mimetype": "text/x-python",
   "name": "python",
   "nbconvert_exporter": "python",
   "pygments_lexer": "ipython2",
   "version": "2.7.9"
  }
 },
 "nbformat": 4,
 "nbformat_minor": 0
}
