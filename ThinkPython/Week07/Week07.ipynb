{
 "cells": [
  {
   "cell_type": "markdown",
   "metadata": {
    "slideshow": {
     "slide_type": "slide"
    }
   },
   "source": [
    "# Think Python: Week 07\n",
    "\n",
    "> There should be one-- and preferably only one --obvious way to do it.\n",
    "> \n",
    "> Although that way may not be obvious at first unless you're Dutch.\n",
    "\n",
    "From the Zen of Python, by Tim Peters (`import this`)\n",
    "\n",
    "Slides: http://github.com/sboisen/training/ThinkPython/Week07"
   ]
  },
  {
   "cell_type": "markdown",
   "metadata": {
    "slideshow": {
     "slide_type": "slide"
    }
   },
   "source": [
    "## Chapter 8 Review Goals\n",
    "\n",
    "* String indexing\n",
    "* Strings are immutable\n"
   ]
  },
  {
   "cell_type": "markdown",
   "metadata": {
    "slideshow": {
     "slide_type": "slide"
    }
   },
   "source": [
    "## Find Double\n",
    "\n",
    "Write a function that returns the index of doubled consonants in a string, or -1 if there are none (using a `while` loop)"
   ]
  },
  {
   "cell_type": "code",
   "execution_count": null,
   "metadata": {
    "collapsed": false,
    "slideshow": {
     "slide_type": "subslide"
    }
   },
   "outputs": [],
   "source": [
    "def find_double(mystr):\n",
    "    index = 0\n",
    "    while index < len(mystr):\n",
    "        if mystr[index] == mystr[index-1]:\n",
    "            return index - 1\n",
    "        index += 1\n",
    "    return -1"
   ]
  },
  {
   "cell_type": "code",
   "execution_count": null,
   "metadata": {
    "collapsed": false,
    "slideshow": {
     "slide_type": "fragment"
    }
   },
   "outputs": [],
   "source": [
    "find_double('parallel')"
   ]
  },
  {
   "cell_type": "code",
   "execution_count": null,
   "metadata": {
    "collapsed": false,
    "slideshow": {
     "slide_type": "fragment"
    }
   },
   "outputs": [],
   "source": [
    "find_double('Tete-a-tete')"
   ]
  },
  {
   "cell_type": "code",
   "execution_count": null,
   "metadata": {
    "collapsed": false,
    "slideshow": {
     "slide_type": "fragment"
    }
   },
   "outputs": [],
   "source": [
    "find_double('Llewelyn')"
   ]
  },
  {
   "cell_type": "code",
   "execution_count": null,
   "metadata": {
    "collapsed": false
   },
   "outputs": [],
   "source": [
    "'foo' > 'fon'"
   ]
  },
  {
   "cell_type": "markdown",
   "metadata": {
    "slideshow": {
     "slide_type": "slide"
    }
   },
   "source": [
    "## Strings are Immutable\n",
    "\n",
    "-   So you have to construct a new string to \"change\" it, and the original remains unchanged"
   ]
  },
  {
   "cell_type": "code",
   "execution_count": null,
   "metadata": {
    "collapsed": false,
    "slideshow": {
     "slide_type": "fragment"
    }
   },
   "outputs": [],
   "source": [
    "mystr = 'foo'\n",
    "mystr[-1] = 'x'"
   ]
  },
  {
   "cell_type": "code",
   "execution_count": null,
   "metadata": {
    "collapsed": false,
    "slideshow": {
     "slide_type": "fragment"
    }
   },
   "outputs": [],
   "source": [
    "mystr = mystr[:-1] + 'x'\n",
    "print mystr"
   ]
  },
  {
   "cell_type": "markdown",
   "metadata": {
    "slideshow": {
     "slide_type": "subslide"
    }
   },
   "source": [
    "-   Not all sequences are immutable, notably `list`"
   ]
  },
  {
   "cell_type": "markdown",
   "metadata": {
    "slideshow": {
     "slide_type": "subslide"
    }
   },
   "source": [
    "Exercise: count the number of vowels in a string, including 'y' as a vowel. \n",
    "\n",
    "*Start with a plan*"
   ]
  },
  {
   "cell_type": "markdown",
   "metadata": {
    "slideshow": {
     "slide_type": "fragment"
    }
   },
   "source": [
    "* traverse the string\n",
    "\n",
    "* keep a counter\n",
    "\n",
    "* test each character"
   ]
  },
  {
   "cell_type": "code",
   "execution_count": null,
   "metadata": {
    "collapsed": true,
    "slideshow": {
     "slide_type": "subslide"
    }
   },
   "outputs": [],
   "source": [
    "def count_vowels(mystr):\n",
    "    count = 0\n",
    "    index = 0\n",
    "    while index < len(mystr):\n",
    "        if mystr[index] in 'AEIOUaeiou':\n",
    "            count += 1\n",
    "        elif mystr[index] in 'Yy' and mystr[index-1] not in 'AEIOUaeiou':\n",
    "            count += 1\n",
    "        index += 1\n",
    "    return count"
   ]
  },
  {
   "cell_type": "code",
   "execution_count": null,
   "metadata": {
    "collapsed": false,
    "slideshow": {
     "slide_type": "fragment"
    }
   },
   "outputs": [],
   "source": [
    "count_vowels('slimy')"
   ]
  },
  {
   "cell_type": "markdown",
   "metadata": {
    "slideshow": {
     "slide_type": "subslide"
    }
   },
   "source": [
    "How can we make this more general?"
   ]
  },
  {
   "cell_type": "markdown",
   "metadata": {
    "slideshow": {
     "slide_type": "subslide"
    }
   },
   "source": [
    "## Other string functions\n",
    "\n",
    "* `strip()`: remove leading and trailing characters, defaulting to spaces\n",
    "* `split()`: return a list of the words in string, spliting on the separator (defaulting to whitespace) \n",
    "* `replace()`: replace one sequence of characters with another"
   ]
  },
  {
   "cell_type": "code",
   "execution_count": null,
   "metadata": {
    "collapsed": false,
    "slideshow": {
     "slide_type": "subslide"
    }
   },
   "outputs": [],
   "source": [
    "'   extra spaces   '.strip()"
   ]
  },
  {
   "cell_type": "code",
   "execution_count": null,
   "metadata": {
    "collapsed": false,
    "slideshow": {
     "slide_type": "fragment"
    }
   },
   "outputs": [],
   "source": [
    "'abracadabra'.strip('a')"
   ]
  },
  {
   "cell_type": "code",
   "execution_count": null,
   "metadata": {
    "collapsed": false,
    "slideshow": {
     "slide_type": "subslide"
    }
   },
   "outputs": [],
   "source": [
    "'Python isn\\'t as hard as you thought, is it?'.split()"
   ]
  },
  {
   "cell_type": "code",
   "execution_count": null,
   "metadata": {
    "collapsed": false,
    "slideshow": {
     "slide_type": "fragment"
    }
   },
   "outputs": [],
   "source": [
    "for w in 'Python isn\\'t as hard as you thought, is it?'.split(): \n",
    "    print w"
   ]
  },
  {
   "cell_type": "code",
   "execution_count": null,
   "metadata": {
    "collapsed": false,
    "slideshow": {
     "slide_type": "subslide"
    }
   },
   "outputs": [],
   "source": [
    "'abracadabra'.replace('a', 'x')"
   ]
  },
  {
   "cell_type": "code",
   "execution_count": null,
   "metadata": {
    "collapsed": false,
    "slideshow": {
     "slide_type": "fragment"
    }
   },
   "outputs": [],
   "source": [
    "'abracadabra'.replace('br', 'p')"
   ]
  },
  {
   "cell_type": "code",
   "execution_count": null,
   "metadata": {
    "collapsed": false,
    "slideshow": {
     "slide_type": "fragment"
    }
   },
   "outputs": [],
   "source": [
    "'abracadabra'.replace('a', 'oy')"
   ]
  },
  {
   "cell_type": "markdown",
   "metadata": {
    "slideshow": {
     "slide_type": "subslide"
    }
   },
   "source": [
    "Exercise: rewrite `in_both` to report when the same letter is in the *same position* in both strings\n",
    "\n",
    "    # from the book\n",
    "    def in_both(word1, word2): \n",
    "        for letter in word1: \n",
    "            if letter in word2: \n",
    "                print letter\n"
   ]
  },
  {
   "cell_type": "code",
   "execution_count": null,
   "metadata": {
    "collapsed": true,
    "slideshow": {
     "slide_type": "subslide"
    }
   },
   "outputs": [],
   "source": [
    "def in_both_positions(str1, str2):\n",
    "    index = 0\n",
    "    while index < len(str1):\n",
    "        if str1[index] == str2[index]:\n",
    "            print index, str1[index]\n",
    "        index += 1"
   ]
  },
  {
   "cell_type": "code",
   "execution_count": null,
   "metadata": {
    "collapsed": false,
    "slideshow": {
     "slide_type": "fragment"
    }
   },
   "outputs": [],
   "source": [
    "in_both_positions('banana', 'cabana')"
   ]
  },
  {
   "cell_type": "code",
   "execution_count": null,
   "metadata": {
    "collapsed": false,
    "slideshow": {
     "slide_type": "fragment"
    }
   },
   "outputs": [],
   "source": [
    "in_both_positions('banana', 'Cuban')"
   ]
  },
  {
   "cell_type": "code",
   "execution_count": null,
   "metadata": {
    "collapsed": true,
    "slideshow": {
     "slide_type": "subslide"
    }
   },
   "outputs": [],
   "source": [
    "# second version than handles strings of different length\n",
    "def in_both_positions(str1, str2):\n",
    "    index = 0\n",
    "    strlen = len(str2)\n",
    "    if len(str1) < strlen:\n",
    "        strlen = len(str1)\n",
    "    while index < strlen:\n",
    "        if str1[index] == str2[index]:\n",
    "            print index, str1[index]\n",
    "        index += 1"
   ]
  },
  {
   "cell_type": "markdown",
   "metadata": {
    "slideshow": {
     "slide_type": "slide"
    }
   },
   "source": [
    "## Biblia API\n",
    "\n",
    "* Generalizing `construct_url()` for multiple services\n",
    "* Printing each word of the text on its own line"
   ]
  },
  {
   "cell_type": "code",
   "execution_count": null,
   "metadata": {
    "collapsed": false,
    "slideshow": {
     "slide_type": "fragment"
    }
   },
   "outputs": [],
   "source": [
    "import biblia\n",
    "biblia.get_biblia_content('LEB', 'Mark+4:9', word_per_line=True)"
   ]
  },
  {
   "cell_type": "markdown",
   "metadata": {
    "slideshow": {
     "slide_type": "slide"
    }
   },
   "source": [
    "## For Next Time\n",
    "\n",
    "* Read chapter 9"
   ]
  },
  {
   "cell_type": "markdown",
   "metadata": {
    "slideshow": {
     "slide_type": "subslide"
    }
   },
   "source": [
    "## Additional Resources\n",
    "\n",
    "* [String methods](http://docs.python.org/lib/string-methods.html): check out `strip`, `split`, and `replace`.\n",
    "* [3:16 Bible Texts Illuminated](http://www.amazon.com/3-16-Bible-Texts-Illuminated/dp/0895792524)\n",
    "    by [Donald Knuth](http://en.wikipedia.org/wiki/Donald_Knuth)\n"
   ]
  }
 ],
 "metadata": {
  "celltoolbar": "Slideshow",
  "kernelspec": {
   "display_name": "Python 2",
   "language": "python",
   "name": "python2"
  },
  "language_info": {
   "codemirror_mode": {
    "name": "ipython",
    "version": 2
   },
   "file_extension": ".py",
   "mimetype": "text/x-python",
   "name": "python",
   "nbconvert_exporter": "python",
   "pygments_lexer": "ipython2",
   "version": "2.7.9"
  }
 },
 "nbformat": 4,
 "nbformat_minor": 0
}
