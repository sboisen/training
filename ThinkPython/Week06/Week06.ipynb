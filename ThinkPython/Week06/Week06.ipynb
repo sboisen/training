{
 "cells": [
  {
   "cell_type": "markdown",
   "metadata": {
    "slideshow": {
     "slide_type": "slide"
    }
   },
   "source": [
    "# Think Python: Week 06\n",
    "\n",
    "<img src='check-email.jpg' style='float: right;' />\n",
    "Slides: http://github.com/sboisen/training/ThinkPython/Week06"
   ]
  },
  {
   "cell_type": "markdown",
   "metadata": {
    "slideshow": {
     "slide_type": "slide"
    }
   },
   "source": [
    "## Chapter 7 Review Goals\n",
    "\n",
    "* Assignment, increment and decrement operators\n",
    "* Iteration: `for`, `while`, `break`\n"
   ]
  },
  {
   "cell_type": "markdown",
   "metadata": {
    "slideshow": {
     "slide_type": "subslide"
    }
   },
   "source": [
    "### Assignment\n",
    "\n",
    "* You can change the value of a variable after you've set it\n",
    "* In an assignment statement, the right side is evaluated *first*\n",
    "* Special assignment operators `+=` (and kin)"
   ]
  },
  {
   "cell_type": "code",
   "execution_count": null,
   "metadata": {
    "collapsed": false,
    "slideshow": {
     "slide_type": "fragment"
    }
   },
   "outputs": [],
   "source": [
    "x = 3\n",
    "x += 1         # same as x = x + 1\n",
    "print x"
   ]
  },
  {
   "cell_type": "markdown",
   "metadata": {
    "slideshow": {
     "slide_type": "subslide"
    }
   },
   "source": [
    "### Iteration\n",
    "\n",
    "* `for`: used with `range()` or other sequences†\n",
    "* `while` depends on repeatedly evaluating a condition\n",
    "  * Easy to loop infinitely if you're not careful\n",
    "\n",
    "\n",
    "\n",
    "† Note we haven't defined what 'sequences' are yet. "
   ]
  },
  {
   "cell_type": "code",
   "execution_count": null,
   "metadata": {
    "collapsed": false,
    "slideshow": {
     "slide_type": "fragment"
    }
   },
   "outputs": [],
   "source": [
    "# Exercise 7.1\n",
    "def print_n(s, n):\n",
    "    while n > 0:\n",
    "        print s\n",
    "        n -= 1\n",
    "print_n('hey', 2)"
   ]
  },
  {
   "cell_type": "markdown",
   "metadata": {
    "slideshow": {
     "slide_type": "fragment"
    }
   },
   "source": [
    "(Do you see any potential problems with this definition?)"
   ]
  },
  {
   "cell_type": "markdown",
   "metadata": {
    "slideshow": {
     "slide_type": "subslide"
    }
   },
   "source": [
    "## Looping While There's Input\n",
    "\n",
    "* `raw_input()` returns a string that the user types in\n",
    "* The empty string `''` has Boolean value `False`"
   ]
  },
  {
   "cell_type": "code",
   "execution_count": null,
   "metadata": {
    "collapsed": false,
    "slideshow": {
     "slide_type": "fragment"
    }
   },
   "outputs": [],
   "source": [
    "print 'Hi ' + raw_input('What\\'s your name?') + '!'"
   ]
  },
  {
   "cell_type": "markdown",
   "metadata": {
    "slideshow": {
     "slide_type": "subslide"
    }
   },
   "source": [
    "* Exercise: write a loop that prints user input until the user enters nothing,*without* using `break` or a special value like 'done'"
   ]
  },
  {
   "cell_type": "code",
   "execution_count": null,
   "metadata": {
    "collapsed": false,
    "slideshow": {
     "slide_type": "fragment"
    }
   },
   "outputs": [],
   "source": [
    "response = raw_input()\n",
    "while response:\n",
    "    print 'Your response was: ' + response\n",
    "    response = raw_input()\n",
    "print 'Guess you\\'re done'"
   ]
  },
  {
   "cell_type": "markdown",
   "metadata": {
    "slideshow": {
     "slide_type": "subslide"
    }
   },
   "source": [
    "### Exiting loops with `break`\n",
    "\n",
    "* Do something until (condition) then stop\n",
    "* Lets you decide when to stop rather than when not to continue"
   ]
  },
  {
   "cell_type": "markdown",
   "metadata": {
    "slideshow": {
     "slide_type": "subslide"
    }
   },
   "source": [
    "## Algorithms\n",
    "\n",
    "> In my opinion, it is embarrassing that humans spend so much time in\n",
    "> school learning to execute algorithms that, quite literally, require\n",
    "> no intelligence. \n",
    "> \n",
    "> On the other hand, the process of designing\n",
    "> algorithms is interesting, intellectually challenging, and a central\n",
    "> part of what we call programming."
   ]
  },
  {
   "cell_type": "markdown",
   "metadata": {
    "slideshow": {
     "slide_type": "slide"
    }
   },
   "source": [
    "## The 5-Minute Guide to Web APIs\n",
    "\n",
    "-   API = Application Programming Interface, a method for software components to talk to each other\n",
    "-   The future of the web is machine-to-machine communcation\n",
    "-   Four aspects of a RESTful web service (web API)\n",
    "    -   Base URI for the service (e.g. `http://api.biblia.com/v1/bible`)\n",
    "    -   Supported media type(s) (Biblia: JSON/text and XML)\n",
    "    -   The methods supported by the API (Biblia: `Content`, `Search`, `Parse`, and others)\n",
    "    -   Hypertext-driven\n"
   ]
  },
  {
   "cell_type": "markdown",
   "metadata": {
    "slideshow": {
     "slide_type": "subslide"
    }
   },
   "source": [
    "## Biblia's `Content` Service\n",
    "\n",
    "-   Return content for a specified Bible\n",
    "-   Example:\n",
    "    [http://api.biblia.com/v1/bible/content/LEB.txt?passage=Mark+4:9&key=MyAPIKey](http://api.biblia.com/v1/bible/content/LEB.txt?passage=Mark+4:9&key=5ed223a198307ffde317add78fe15710)\n",
    "-   [Documentation](http://api.biblia.com/docs/Bible_Content)\n",
    "-   Biblia API methods are read-only\n"
   ]
  },
  {
   "cell_type": "markdown",
   "metadata": {
    "slideshow": {
     "slide_type": "subslide"
    }
   },
   "source": [
    "### Planning a Python Interface to the Biblia API\n",
    "\n",
    "What's required?"
   ]
  },
  {
   "cell_type": "markdown",
   "metadata": {
    "slideshow": {
     "slide_type": "fragment"
    }
   },
   "source": [
    "* Construct a URL to retrieve the resource"
   ]
  },
  {
   "cell_type": "markdown",
   "metadata": {
    "slideshow": {
     "slide_type": "fragment"
    }
   },
   "source": [
    "* Retrieve the resource from the Web"
   ]
  },
  {
   "cell_type": "markdown",
   "metadata": {
    "slideshow": {
     "slide_type": "fragment"
    }
   },
   "source": [
    "* Present the retrieved results"
   ]
  },
  {
   "cell_type": "markdown",
   "metadata": {
    "slideshow": {
     "slide_type": "slide"
    }
   },
   "source": [
    "## Accessing Web Pages\n",
    "\n",
    "* `urllib2`: \"An extensible library for opening URLs using a variety of protocols\"\n",
    "  * `urllib2.urlopen()` returns a \"file-like object\" that has a `read()` function"
   ]
  },
  {
   "cell_type": "code",
   "execution_count": null,
   "metadata": {
    "collapsed": false,
    "slideshow": {
     "slide_type": "subslide"
    }
   },
   "outputs": [],
   "source": [
    "import urllib2\n",
    "f = urllib2.urlopen('http://seanboisen.asamasa.net/robots.txt')\n",
    "print f.read()"
   ]
  },
  {
   "cell_type": "code",
   "execution_count": null,
   "metadata": {
    "collapsed": true,
    "slideshow": {
     "slide_type": "subslide"
    }
   },
   "outputs": [],
   "source": [
    "def construct_base_url(bible, text):\n",
    "    \"\"\"Return the base URL for BIBLE and TEXT. \n",
    "    BIBLE is 'KJV' or 'LEB'\n",
    "    TEXT is 'xml' or 'json' or 'txt'\n",
    "    \"\"\"\n",
    "    base_url = 'http://api.biblia.com/v1/bible/content/'\n",
    "    url = base_url + bible + '.' + text\n",
    "    return url"
   ]
  },
  {
   "cell_type": "markdown",
   "metadata": {
    "slideshow": {
     "slide_type": "slide"
    }
   },
   "source": [
    "## For Next Time\n",
    "\n",
    "* Look at [biblia.py](https://github.com/sboisen/training/blob/master/ThinkPython/Week05/biblia.py)\n",
    "* Make your own version (with your own API key) and modify `print_result()` to print each word of the text on its own line\n",
    "        >>> get_biblia_content('LEB', 'txt', 'Mark 4:9')\n",
    "        And\n",
    "        he\n",
    "        said,\n",
    "        \"Whoever\n",
    "        has\n",
    "        ears\n",
    "        to\n",
    "        hear,\n",
    "        let\n",
    "        him\n",
    "        hear!\"\n",
    "* [Logos Cloud](https://app.logos.com) has this URL structure for reading Bible text: \n",
    "\n",
    "> https://app.logos.com/books/{VERSION}/{REFERENCE}\n",
    "\n",
    "Refactor `construct_url()` in biblia.py to add an argument for the service whose URL you want to construct (you can't retrieve using this URL, but copy it to your browser and make sure it generates correct output: you'll need to sign in to app.logos.com)\n",
    "* Read chapter 8\n"
   ]
  },
  {
   "cell_type": "markdown",
   "metadata": {
    "slideshow": {
     "slide_type": "subslide"
    }
   },
   "source": [
    "## Additional Resources\n",
    "\n",
    "* <img src=\"bd.png\" style=\"display: inline;\" /><img src=\"bd.png\" style=\"display: inline;\" />[Python documentation for `urllib2`](). (there will be a lot here you may not understand!)\n"
   ]
  }
 ],
 "metadata": {
  "celltoolbar": "Slideshow",
  "kernelspec": {
   "display_name": "Python 2",
   "language": "python",
   "name": "python2"
  },
  "language_info": {
   "codemirror_mode": {
    "name": "ipython",
    "version": 2
   },
   "file_extension": ".py",
   "mimetype": "text/x-python",
   "name": "python",
   "nbconvert_exporter": "python",
   "pygments_lexer": "ipython2",
   "version": "2.7.9"
  }
 },
 "nbformat": 4,
 "nbformat_minor": 0
}
