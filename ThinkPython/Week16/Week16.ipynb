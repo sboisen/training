{
 "cells": [
  {
   "cell_type": "markdown",
   "metadata": {
    "slideshow": {
     "slide_type": "slide"
    }
   },
   "source": [
    "# Think Python: Week 16\n",
    "\n",
    "Slides: http://github.com/sboisen/training/ThinkPython/Week16"
   ]
  },
  {
   "cell_type": "markdown",
   "metadata": {
    "slideshow": {
     "slide_type": "slide"
    }
   },
   "source": [
    "## Topics\n",
    "\n",
    "* Methods\n",
    "* Initializing instances (`init()`)\n",
    "* Operator overloading\n",
    "* Dispatching on type (`isinstance()`)"
   ]
  },
  {
   "cell_type": "markdown",
   "metadata": {
    "slideshow": {
     "slide_type": "slide"
    }
   },
   "source": [
    "## Methods\n",
    "\n",
    "* Methods are a key way to bundle behavior and functionality together with objects\n",
    "* arguments and parameters:\n",
    "    * the object instance gets bound to the first parameter of the method\n",
    "    * additional arguments get bound to additional parameters\n",
    "* `self` is a strong convention in method definitions\n"
   ]
  },
  {
   "cell_type": "markdown",
   "metadata": {
    "slideshow": {
     "slide_type": "slide"
    }
   },
   "source": [
    "## Method Syntax vs Function Syntax\n",
    "\n",
    "* Method syntax is generally preferred\n",
    "\n",
    "        start.print_time()\n",
    "        \n",
    "* Function syntax works (`Time.print_time(start)`), but is confusing and atypical\n"
   ]
  },
  {
   "cell_type": "markdown",
   "metadata": {
    "slideshow": {
     "slide_type": "slide"
    }
   },
   "source": [
    "## `init()`\n",
    "\n",
    "> It is usually a good idea to initialize all of an objects attributes in the init method.\n",
    "\n",
    "* Put parameters here that may change for different instances\n",
    "* Object attributes wind up in the `__dict__` attribute for an instance"
   ]
  },
  {
   "cell_type": "code",
   "execution_count": null,
   "metadata": {
    "collapsed": false,
    "slideshow": {
     "slide_type": "subslide"
    }
   },
   "outputs": [],
   "source": [
    "# reworked from last week\n",
    "class Filelist(object):\n",
    "    def __init__(self, condition=''):\n",
    "        self.condition = condition\n",
    "        self.resources = []\n",
    "        \n",
    "found_resources = Filelist(condition='found')\n",
    "found_resources.resources.append('foo')\n",
    "extra_resources = Filelist(condition='extra')\n",
    "print found_resources.condition, found_resources.resources\n",
    "print extra_resources.condition, extra_resources.resources\n"
   ]
  },
  {
   "cell_type": "markdown",
   "metadata": {
    "slideshow": {
     "slide_type": "slide"
    }
   },
   "source": [
    "## Operator Overloading\n",
    "\n",
    "* Never strictly necessary, but very helpful for producing readable, Pythonic code\n",
    "* Not all operators apply to all cases\n",
    "-   Good to learn at least some of the special class methods, esp.\n",
    "    -   `__str__` and `__repr__`\n",
    "    -   `__len__`, `__contains__` and `__getitem__` for sequences\n",
    "    -   `__cmp__`, `__eq__`, `__ne__`, and kin\n",
    "    -   `__hash__` if you want to use your objects as keys in a `dict`\n"
   ]
  },
  {
   "cell_type": "code",
   "execution_count": null,
   "metadata": {
    "collapsed": false,
    "slideshow": {
     "slide_type": "subslide"
    }
   },
   "outputs": [],
   "source": [
    "class Filelist(object):\n",
    "    def __init__(self, condition=''):\n",
    "        self.condition = condition\n",
    "        self.resources = []\n",
    "    def __str__(self):\n",
    "        return \"Filelist ({}) with {} resources\".format(self.condition, len(self.resources))\n",
    "found_resources = Filelist(condition='found')\n",
    "found_resources.resources.append('foo')\n",
    "extra_resources = Filelist(condition='extra')\n",
    "print found_resources\n",
    "print extra_resources\n",
    "found_resources"
   ]
  },
  {
   "cell_type": "markdown",
   "metadata": {
    "slideshow": {
     "slide_type": "slide"
    }
   },
   "source": [
    "## Dispatching on Type\n",
    "* How to make type-specific decisions in your code"
   ]
  },
  {
   "cell_type": "code",
   "execution_count": null,
   "metadata": {
    "collapsed": false,
    "slideshow": {
     "slide_type": "fragment"
    }
   },
   "outputs": [],
   "source": [
    "print isinstance(found_resources, Filelist)\n",
    "print isinstance('foo', Filelist)"
   ]
  },
  {
   "cell_type": "markdown",
   "metadata": {
    "slideshow": {
     "slide_type": "slide"
    }
   },
   "source": [
    "## Ryan's Program\n",
    "\n",
    "* What are the objects in this system? \n",
    "* What methods would make sense?"
   ]
  },
  {
   "cell_type": "code",
   "execution_count": null,
   "metadata": {
    "collapsed": true
   },
   "outputs": [],
   "source": [
    "import os\n",
    "class Resource(object)\n",
    "    def __init__(self, resourceid):\n",
    "        if resourceid:\n",
    "            self.str_resource = resourceid\n",
    "        else:\n",
    "            self.str_resource = raw_input(\"Enter resource ID (all caps):\\n\")\n",
    "        self.str_resource_path = os.path.join(\"T:\", \"Resources\", self.str_resource)\n",
    "\n",
    "    def send_path(self):\n",
    "        return os.path.join(self.str_resource, \"Send\")"
   ]
  },
  {
   "cell_type": "markdown",
   "metadata": {
    "slideshow": {
     "slide_type": "slide"
    }
   },
   "source": [
    "## Additional Resources\n",
    "\n",
    "* <img src=\"bd.png\" style=\"display: inline;\" /><img src=\"bd.png\" style=\"display: inline;\" />[Special Method Names for Classes](https://docs.python.org/2.7/reference/datamodel.html?highlight=__cmp__#special-method-names)"
   ]
  }
 ],
 "metadata": {
  "celltoolbar": "Slideshow",
  "kernelspec": {
   "display_name": "Python 2",
   "language": "python",
   "name": "python2"
  },
  "language_info": {
   "codemirror_mode": {
    "name": "ipython",
    "version": 2
   },
   "file_extension": ".py",
   "mimetype": "text/x-python",
   "name": "python",
   "nbconvert_exporter": "python",
   "pygments_lexer": "ipython2",
   "version": "2.7.9"
  }
 },
 "nbformat": 4,
 "nbformat_minor": 0
}
