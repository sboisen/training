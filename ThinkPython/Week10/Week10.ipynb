{
 "cells": [
  {
   "cell_type": "markdown",
   "metadata": {
    "slideshow": {
     "slide_type": "slide"
    }
   },
   "source": [
    "# Think Python: Week 10\n",
    "\n",
    "<img src=\"substitutions.png\" style=\"float:right;\" />\n",
    "Slides: http://github.com/sboisen/training/ThinkPython/Week10"
   ]
  },
  {
   "cell_type": "markdown",
   "metadata": {
    "slideshow": {
     "slide_type": "slide"
    }
   },
   "source": [
    "## Summer Break!\n",
    "\n",
    "After today, our next class will be **Sept 29**. "
   ]
  },
  {
   "cell_type": "markdown",
   "metadata": {
    "slideshow": {
     "slide_type": "slide"
    }
   },
   "source": [
    "## Sidebar: using Git\n",
    "\n",
    "* Basic command-line tools: https://git-scm.com/downloads\n",
    "* Slightly better: https://desktop.github.com/\n",
    "* Better still (but needs a paid license): http://www.syntevo.com/smartgit/"
   ]
  },
  {
   "cell_type": "markdown",
   "metadata": {
    "slideshow": {
     "slide_type": "slide"
    }
   },
   "source": [
    "## Chapter 11 Review Goals\n",
    "\n",
    "* Dictionaries\n",
    "* Raising exceptions\n",
    "* Global variables"
   ]
  },
  {
   "cell_type": "markdown",
   "metadata": {
    "slideshow": {
     "slide_type": "subslide"
    }
   },
   "source": [
    "### Dictionaries: Master Them!\n",
    "* Most programming languages have an equivalent concept\n",
    "* Key-value pairs are everywhere once you have eyes to see them\n",
    "* Dictionaries are typically much faster than lists"
   ]
  },
  {
   "cell_type": "markdown",
   "metadata": {
    "slideshow": {
     "slide_type": "slide"
    }
   },
   "source": [
    "## Dictionaries: the Basics\n",
    "\n",
    "* Dictionaries contain *items* which pair a *key* with a *value*\n",
    "* Each key must be unique\n",
    "* Keys must be immutable\n",
    "* Values can be any type\n",
    "* Some sequence methods apply: `in`, `len()`"
   ]
  },
  {
   "cell_type": "code",
   "execution_count": null,
   "metadata": {
    "collapsed": true,
    "slideshow": {
     "slide_type": "subslide"
    }
   },
   "outputs": [],
   "source": [
    "# dict mapping resource IDs to titles\n",
    "myd = {\"LLS:14.0.1\": \"New Bible Dictionary\",\n",
    "       \"LLS:14.0.3\": \"Harper's Bible Dictionary\", \n",
    "       \"LLS:HLMNILLBBLDICT\": \"Holman Illustrated Bible Dictionary\",\n",
    "       \"LLS:14.0.4\": \"The Anchor Yale Bible Dictionary\",\n",
    "       # and many, many others ...\n",
    "       }"
   ]
  },
  {
   "cell_type": "markdown",
   "metadata": {
    "slideshow": {
     "slide_type": "slide"
    }
   },
   "source": [
    "## Dict Order Isn't Useful\n"
   ]
  },
  {
   "cell_type": "code",
   "execution_count": null,
   "metadata": {
    "collapsed": false,
    "slideshow": {
     "slide_type": "fragment"
    }
   },
   "outputs": [],
   "source": [
    "myd.keys()"
   ]
  },
  {
   "cell_type": "code",
   "execution_count": null,
   "metadata": {
    "collapsed": false,
    "slideshow": {
     "slide_type": "fragment"
    }
   },
   "outputs": [],
   "source": [
    "# access items in order by keys\n",
    "for k in sorted(myd.keys()):\n",
    "    print k, myd[k]"
   ]
  },
  {
   "cell_type": "markdown",
   "metadata": {
    "slideshow": {
     "slide_type": "subslide"
    }
   },
   "source": [
    "## Key Uniqueness\n",
    "* Either collect additional values in a list, or test before overwriting a value"
   ]
  },
  {
   "cell_type": "markdown",
   "metadata": {
    "slideshow": {
     "slide_type": "slide"
    }
   },
   "source": [
    "## Fun with Dictionaries"
   ]
  },
  {
   "cell_type": "code",
   "execution_count": null,
   "metadata": {
    "collapsed": false,
    "slideshow": {
     "slide_type": "subslide"
    }
   },
   "outputs": [],
   "source": [
    "# fast lookup in a large set of values: \n",
    "# read everything into a dictionary once initially, then look up repeatedly\n",
    "customer_zipcodes = {\n",
    "    '98225': True,\n",
    "    '98226': True,\n",
    "    '98230': True,\n",
    "    # and a few thousand more\n",
    "    }\n",
    "'98227' in customer_zipcodes"
   ]
  },
  {
   "cell_type": "code",
   "execution_count": null,
   "metadata": {
    "collapsed": false,
    "slideshow": {
     "slide_type": "subslide"
    }
   },
   "outputs": [],
   "source": [
    "# Counting repeated items in a sequence\n",
    "# Exercise 11.2: histogram using get()\n",
    "def histogram(l):\n",
    "    counts = dict()\n",
    "    for color in l:\n",
    "        counts[color] = counts.get(color, 0) + 1\n",
    "    return counts\n",
    "    \n",
    "histogram(['red', 'blue', 'red', 'green', 'blue', 'red', 'purple'])"
   ]
  },
  {
   "cell_type": "markdown",
   "metadata": {
    "slideshow": {
     "slide_type": "fragment"
    }
   },
   "source": [
    "Note the `collections` module has a `Counter` for this use case: this is just for expository purposes. "
   ]
  },
  {
   "cell_type": "code",
   "execution_count": null,
   "metadata": {
    "collapsed": true,
    "slideshow": {
     "slide_type": "subslide"
    }
   },
   "outputs": [],
   "source": [
    "# inverting a dictionary\n",
    "# example: products by customer, customers by product"
   ]
  },
  {
   "cell_type": "code",
   "execution_count": null,
   "metadata": {
    "collapsed": false,
    "slideshow": {
     "slide_type": "subslide"
    }
   },
   "outputs": [],
   "source": [
    "# memoization: cache results to speed things up\n",
    "refcache = {}\n",
    "\n",
    "for ref in long_list_of_Bible_references:\n",
    "    if ref not in refcache:\n",
    "        refcache[ref] = slow_reference_conversion(ref)\n",
    "# now all the conversion results are in refcache\n",
    "# but nothing got converted more than once\n",
    "        "
   ]
  },
  {
   "cell_type": "code",
   "execution_count": null,
   "metadata": {
    "collapsed": false,
    "slideshow": {
     "slide_type": "subslide"
    }
   },
   "outputs": [],
   "source": [
    "# URL Shortener\n",
    "SHORTURLS = dict()\n",
    "URLS = dict()\n",
    "URLCOUNTER = 0\n",
    "\n",
    "def shortener(url):\n",
    "    if url.startswith('http://mydomain.com/'):\n",
    "        return SHORTURLS[url[20:]]\n",
    "    else:\n",
    "        return define_short_url(url)\n",
    "\n",
    "def define_short_url(url):\n",
    "    global URLCOUNTER\n",
    "    if url not in URLS:\n",
    "        SHORTURLS[str(URLCOUNTER)] = url\n",
    "        URLS[url] = str(URLCOUNTER)\n",
    "        URLCOUNTER += 1\n",
    "    return 'http://mydomain.com/' + URLS[url]\n",
    "  \n",
    "# then set up your web site to redirect using the contents of SHORTURLS"
   ]
  },
  {
   "cell_type": "code",
   "execution_count": null,
   "metadata": {
    "collapsed": false,
    "slideshow": {
     "slide_type": "subslide"
    }
   },
   "outputs": [],
   "source": [
    "for url in ['http://logos.com/compare',\n",
    "            'http://seanboisen.com',\n",
    "            'https://github.com/sboisen/training/tree/master/ThinkPython/Week10', \n",
    "            'http://seanboisen.com',\n",
    "            'http://mydomain.com/0']:\n",
    "    print url, '=>', shortener(url)"
   ]
  },
  {
   "cell_type": "code",
   "execution_count": null,
   "metadata": {
    "collapsed": false,
    "slideshow": {
     "slide_type": "subslide"
    }
   },
   "outputs": [],
   "source": [
    "# the value in a dictionary can be another dictionary\n",
    "users = {\n",
    "    'sboisen': {\n",
    "        'first name': 'Sean',\n",
    "        'last name': 'Boisen', \n",
    "        'tenure': 8,\n",
    "        },\n",
    "    'pvenable': {\n",
    "        'first name': 'Peter',\n",
    "        'last name': 'Venable', \n",
    "        'tenure': 4,\n",
    "        },\n",
    "    'rbrannan': {\n",
    "        'first name': 'Rick',\n",
    "        'last name': 'Brannan', \n",
    "        'tenure': 22,\n",
    "        },\n",
    "    }\n",
    "users['sboisen']['first name']"
   ]
  },
  {
   "cell_type": "markdown",
   "metadata": {
    "slideshow": {
     "slide_type": "slide"
    }
   },
   "source": [
    "## Raising Exceptions\n",
    "* Examples so far: \n",
    "    * `NameError`: using a name that's not defined\n",
    "    * `TypeError`: problems with types\n",
    "    * `IndexError`: accessing a non-existent index in a sequence \n",
    "    * `KeyError`: accessing a non-existent key in a dictionary\n",
    "    * `ValueError`: something wrong with the value of a parameter\n",
    "* Lots of others. Later you'll learn how to define your own\n",
    "* An exception like `TypeError` is a *class* of error: there might be many different kinds"
   ]
  },
  {
   "cell_type": "markdown",
   "metadata": {
    "slideshow": {
     "slide_type": "subslide"
    }
   },
   "source": [
    "* Best practices: \n",
    "    * include an informative message\n",
    "    * don't go overboard"
   ]
  },
  {
   "cell_type": "markdown",
   "metadata": {
    "slideshow": {
     "slide_type": "slide"
    }
   },
   "source": [
    "## Global Variables\n",
    "* By default, Python uses local variables\n",
    "* Use the global declaration to use the global value instead\n",
    "* Strong convention: use UPPERCASE variable names for global values\n",
    "* Use globals sparingly!\n",
    "  * Encapsulation is generally a good thing\n",
    "  * Code with globals is harder to test in a modular way"
   ]
  },
  {
   "cell_type": "markdown",
   "metadata": {
    "slideshow": {
     "slide_type": "slide"
    }
   },
   "source": [
    "## During Summer Break\n",
    "\n",
    "* Read chapter 12: Tuples\n",
    "* Look at the bonus assignments for Week 09, and rewrite them using dictionaries"
   ]
  },
  {
   "cell_type": "markdown",
   "metadata": {
    "slideshow": {
     "slide_type": "slide"
    }
   },
   "source": [
    "## Additional Resources\n",
    "\n",
    "* If you have your own hosting service, you can set up [YOURLS](http://yourls.org/) as your own URL shortener (alas, using PHP rather than Python)\n",
    "* <img src=\"bd.png\" style=\"display: inline;\" />I've looked at about a dozen Git tutorials (which tells you something about its complexity). [This one seems best suited to first-timers](http://readwrite.com/2013/09/30/understanding-github-a-journey-for-beginners-part-1).\n",
    "* <img src=\"bd.png\" style=\"display: inline;\" />[Memoization](https://en.wikipedia.org/wiki/Memoization)\n",
    "* <img src=\"bd.png\" style=\"display: inline;\" />The excellent [Natural Language Toolkit](http://www.nltk.org/) (NLTK) has a well-developed class for frequency distributions (histograms) called [FreqDist](http://nltk.googlecode.com/svn/trunk/doc/api/nltk.probability.FreqDist-class.html). Among other things, it's very useful for [text corpora](http://nltk.googlecode.com/svn/trunk/doc/book/ch02.html).\n",
    "* <img src=\"bd.png\" style=\"display: inline;\" /><img src=\"bd.png\" style=\"display: inline;\" />[Wikipedia: Hash table](http://en.wikipedia.org/wiki/Hash_table)\n"
   ]
  }
 ],
 "metadata": {
  "celltoolbar": "Slideshow",
  "kernelspec": {
   "display_name": "Python 2",
   "language": "python",
   "name": "python2"
  },
  "language_info": {
   "codemirror_mode": {
    "name": "ipython",
    "version": 2
   },
   "file_extension": ".py",
   "mimetype": "text/x-python",
   "name": "python",
   "nbconvert_exporter": "python",
   "pygments_lexer": "ipython2",
   "version": "2.7.9"
  }
 },
 "nbformat": 4,
 "nbformat_minor": 0
}
