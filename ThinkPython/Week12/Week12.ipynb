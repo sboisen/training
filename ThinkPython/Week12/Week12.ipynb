{
 "cells": [
  {
   "cell_type": "markdown",
   "metadata": {
    "slideshow": {
     "slide_type": "slide"
    }
   },
   "source": [
    "# Think Python: Week 12\n",
    "\n",
    "<img src=\"reassuring.png\" style=\"align: right;\" />\n",
    "Slides: http://github.com/sboisen/training/ThinkPython/Week12"
   ]
  },
  {
   "cell_type": "markdown",
   "metadata": {
    "slideshow": {
     "slide_type": "slide"
    }
   },
   "source": [
    "## Word Frequency Analysis\n",
    "* Python is great because you can easily do incredibly powerful things ... like this\n"
   ]
  },
  {
   "cell_type": "markdown",
   "metadata": {
    "slideshow": {
     "slide_type": "slide"
    }
   },
   "source": [
    "## Decorate, Sort, Undecorate (DSU)"
   ]
  },
  {
   "cell_type": "markdown",
   "metadata": {
    "slideshow": {
     "slide_type": "slide"
    }
   },
   "source": [
    "## Optional Parameters"
   ]
  },
  {
   "cell_type": "code",
   "execution_count": null,
   "metadata": {
    "collapsed": false,
    "slideshow": {
     "slide_type": "fragment"
    }
   },
   "outputs": [],
   "source": [
    "def foo(arg=10): \n",
    "    print arg\n",
    "foo()"
   ]
  },
  {
   "cell_type": "code",
   "execution_count": null,
   "metadata": {
    "collapsed": false,
    "slideshow": {
     "slide_type": "fragment"
    }
   },
   "outputs": [],
   "source": [
    "def foo(arg1=10, arg2=20): \n",
    "    print arg1 + arg2\n",
    "foo(12)"
   ]
  },
  {
   "cell_type": "code",
   "execution_count": null,
   "metadata": {
    "collapsed": false,
    "slideshow": {
     "slide_type": "fragment"
    }
   },
   "outputs": [],
   "source": [
    "def foo(arg1=10, arg2): \n",
    "    print arg1 + arg2\n",
    "foo(12)"
   ]
  },
  {
   "cell_type": "markdown",
   "metadata": {
    "slideshow": {
     "slide_type": "slide"
    }
   },
   "source": [
    "## Sets"
   ]
  },
  {
   "cell_type": "code",
   "execution_count": null,
   "metadata": {
    "collapsed": false,
    "slideshow": {
     "slide_type": "fragment"
    }
   },
   "outputs": [],
   "source": [
    "set1 = set('abecedarian')\n",
    "print set1, type(set1)\n",
    "set2 = set(['d', 'e', 'f', 'g'])\n",
    "print set2 "
   ]
  },
  {
   "cell_type": "code",
   "execution_count": null,
   "metadata": {
    "collapsed": false,
    "slideshow": {
     "slide_type": "fragment"
    }
   },
   "outputs": [],
   "source": [
    "print set1.intersection(set2)\n",
    "print set1.union(set2)\n",
    "print set1.difference(set2)\n",
    "print set2.difference(set1)"
   ]
  },
  {
   "cell_type": "markdown",
   "metadata": {
    "slideshow": {
     "slide_type": "slide"
    }
   },
   "source": [
    "## Concatenation Operator `*`"
   ]
  },
  {
   "cell_type": "code",
   "execution_count": null,
   "metadata": {
    "collapsed": false,
    "slideshow": {
     "slide_type": "fragment"
    }
   },
   "outputs": [],
   "source": [
    "# concatenate a string\n",
    "'spam ' * 3"
   ]
  },
  {
   "cell_type": "code",
   "execution_count": null,
   "metadata": {
    "collapsed": false,
    "slideshow": {
     "slide_type": "fragment"
    }
   },
   "outputs": [],
   "source": [
    "# concatenate items from a list: result is a list\n",
    "['spam '] * 3"
   ]
  },
  {
   "cell_type": "code",
   "execution_count": null,
   "metadata": {
    "collapsed": false,
    "slideshow": {
     "slide_type": "fragment"
    }
   },
   "outputs": [],
   "source": [
    "['spam', 'ham',] * 3"
   ]
  },
  {
   "cell_type": "code",
   "execution_count": null,
   "metadata": {
    "collapsed": false,
    "slideshow": {
     "slide_type": "fragment"
    }
   },
   "outputs": [],
   "source": [
    "['s', 'p', 'a', 'm', ' '] * 3"
   ]
  },
  {
   "cell_type": "markdown",
   "metadata": {
    "slideshow": {
     "slide_type": "slide"
    }
   },
   "source": [
    "## Choosing Data Structures\n",
    "\n",
    "* Factors: ease of implementation, ease of understanding, speed versus storage, ...\n",
    "* The same problem may use different data structures for different purposes: one size doesn't fit all\n",
    "* Optimizing implies you know the costs of your different resources\n",
    "\n",
    "> \"The real problem is that programmers have spent far too much time worrying about efficiency in the wrong places and at the wrong times; premature optimization is the root of all evil (or at least most of it) in programming.\"\n",
    ">\n",
    "> --  [Donald Knuth](https://en.wikipedia.org/wiki/Donald_Knuth), *Computer Programming as an Art*"
   ]
  },
  {
   "cell_type": "markdown",
   "metadata": {
    "slideshow": {
     "slide_type": "slide"
    }
   },
   "source": [
    "## Debugging\n",
    "\n",
    "> Debugging is like an experimental science. You should have at least one hypothesis about what the problem is. If there are two or more possibilities, try to think of a test that would eliminate one of them."
   ]
  },
  {
   "cell_type": "markdown",
   "metadata": {
    "slideshow": {
     "slide_type": "slide"
    }
   },
   "source": [
    "## Code Review: `createcompxml.py`\n",
    "Review areas:\n",
    "* bugs and logic flaws\n",
    "* generality\n",
    "* re-usability\n",
    "* maintainability\n",
    "* best practices\n",
    "* idoimatic style (\"Pythonic\" code)\n",
    "* general style"
   ]
  },
  {
   "cell_type": "markdown",
   "metadata": {
    "slideshow": {
     "slide_type": "subslide"
    }
   },
   "source": [
    "### How to Read Other People's Code\n",
    "* Start with purpose\n",
    "* Look at input and output\n",
    "    * Preferably with examples\n",
    "* Get the big picture (top-down)\n",
    "* Understand additional modules"
   ]
  },
  {
   "cell_type": "markdown",
   "metadata": {
    "slideshow": {
     "slide_type": "slide"
    }
   },
   "source": [
    "## Your Code Should Model Your Data\n",
    "* Either give your data table a header row, or add one to your code"
   ]
  },
  {
   "cell_type": "code",
   "execution_count": null,
   "metadata": {
    "collapsed": false,
    "slideshow": {
     "slide_type": "fragment"
    }
   },
   "outputs": [],
   "source": [
    "columns = ['category', 'id', '', '', 'label', 'productId']\n",
    "row23 = ['', u'LLS:NLGALLENGRENO', '', '', u'Allen and Greenough\\'s New Latin Grammar', 27101.0]\n",
    "row23dict = dict(zip(columns, row23))\n",
    "print row23dict\n",
    "row23dict['label']"
   ]
  },
  {
   "cell_type": "markdown",
   "metadata": {
    "slideshow": {
     "slide_type": "slide"
    }
   },
   "source": [
    "## Comments\n",
    "* Put a single comment block at the top of the file explaining\n",
    "    * the overall purpose in a single sentence\n",
    "    * high-level assumptions\n",
    "\n",
    "\n",
    "        \"\"\"Reads an Excel sheet with resource and product IDs, and outputs an XML-formatted version. \n",
    "\n",
    "        Input file format: ...\n",
    "        Output file format:\n",
    "        \"\"\"\n",
    "        \n",
    "* Comment on code that's unusual, odd, complex, ...\n",
    "* Don't comment on code that's obvious\n",
    "\n",
    "            # check to make sure elem isn't empty\n",
    "            if len(elem):\n"
   ]
  },
  {
   "cell_type": "markdown",
   "metadata": {
    "slideshow": {
     "slide_type": "slide"
    }
   },
   "source": [
    "## Import Style\n",
    "* group your imports at the top of your file so people don't have to hunt for them\n",
    "    * CI's standard: first built-in modules, then 3rd-party modules, then in-house modules\n",
    "\n",
    "\n",
    "        import xlrd\n",
    "        import xml.etree.cElementTree as ET             ## review: lower-case here would be more standard\n",
    "        \n",
    "        DATAFILE = 'compcharttext.xlsx'"
   ]
  },
  {
   "cell_type": "markdown",
   "metadata": {
    "slideshow": {
     "slide_type": "slide"
    }
   },
   "source": [
    "## Factor out Commonalities and Redundancies"
   ]
  },
  {
   "cell_type": "code",
   "execution_count": null,
   "metadata": {
    "collapsed": false,
    "slideshow": {
     "slide_type": "subslide"
    }
   },
   "outputs": [],
   "source": [
    "# instead of this\n",
    "if len(elem):\n",
    "    if not elem.text or not elem.text.strip():\n",
    "        elem.text = i + \"  \"\n",
    "    if not elem.tail or not elem.tail.strip():\n",
    "        elem.tail = i\n",
    "    for elem in elem:\n",
    "        indent(elem, level+1)\n",
    "    if not elem.tail or not elem.tail.strip():\n",
    "        elem.tail = i\n",
    "else:\n",
    "    if level and (not elem.tail or not elem.tail.strip()):\n",
    "        elem.tail = i"
   ]
  },
  {
   "cell_type": "code",
   "execution_count": null,
   "metadata": {
    "collapsed": false,
    "slideshow": {
     "slide_type": "fragment"
    }
   },
   "outputs": [],
   "source": [
    "# one function to re-use, named positively \n",
    "def hasnochars(str)\n",
    "    # i think this could just be (not str.strip())\n",
    "    return not str or not str.strip()\n",
    "\n",
    "if len(elem):\n",
    "    if hasnochars(elem.text):\n",
    "        elem.text = i + \"  \"\n",
    "    if hasnochars(elem.tail):\n",
    "        elem.tail = i\n",
    "    for elem in elem:\n",
    "        indent(elem, level+1)\n",
    "    if hasnochars(elem.tail):\n",
    "        elem.tail = i\n",
    "else:\n",
    "    if level and hasnochars(elem.tail):\n",
    "        elem.tail = i\n"
   ]
  },
  {
   "cell_type": "markdown",
   "metadata": {
    "slideshow": {
     "slide_type": "slide"
    }
   },
   "source": [
    "## General Style\n",
    "* If you have both input and output files, name them distinctly\n",
    "* Generality: functions that handle file streams (rather than files directly) are often more general\n",
    "    * Especially for output: easier to switch from console output (debugging) to file output (production)"
   ]
  },
  {
   "cell_type": "code",
   "execution_count": null,
   "metadata": {
    "collapsed": false,
    "slideshow": {
     "slide_type": "fragment"
    }
   },
   "outputs": [],
   "source": [
    "def output_it(value, outstr=None):\n",
    "    print >> outstr, \"My value is:\", value\n",
    "    \n",
    "output_it('some value')\n",
    "# or, output_it('some value', open('outputfile.txt'))"
   ]
  },
  {
   "cell_type": "markdown",
   "metadata": {
    "slideshow": {
     "slide_type": "slide"
    }
   },
   "source": [
    "## Rework Your Data Formats\n",
    "* Sometimes the best way to improve your code is to make your input or output format better\n",
    "    * Example: rather than having two kinds of lines in the input file for section headers, just put the section on every line\n",
    "        * Then track that column, and emit a new section marker when it changes"
   ]
  },
  {
   "cell_type": "code",
   "execution_count": null,
   "metadata": {
    "collapsed": true,
    "slideshow": {
     "slide_type": "slide"
    }
   },
   "outputs": [],
   "source": [
    "## review: comment your program and its high-level assumptions\n",
    "\"\"\"Reads an Excel sheet with resource IDs and ___ and outputs an XML-formatted version. \n",
    "\n",
    "Input file format: ...\n",
    "\n",
    "\"\"\"\n",
    "## review: group your imports at the top: don't sprinkle them throughout\n",
    "import xlrd\n",
    "import xml.etree.cElementTree as ET             ## review: lower-case here would be more standard\n",
    "\n",
    "DATAFILE = 'compcharttext.xlsx'\n",
    "\n",
    "def sheet_matrix(file=DATAFILE):\n",
    "    \"\"\"Return the data from DATAFILE as a list of lists. Doesn't include the headers. \n",
    "    \"\"\"\n",
    "    # use file rather than DATAFILE\n",
    "    sheet = xlrd.open_workbook(DATAFILE).sheet_by_index(0)\n",
    "    rows = []\n",
    "    for index in range(0, sheet.nrows):\n",
    "        rows.append(sheet.row_values(index))\n",
    "    return rows\n",
    "\n",
    "x = sheet_matrix()"
   ]
  },
  {
   "cell_type": "markdown",
   "metadata": {
    "slideshow": {
     "slide_type": "slide"
    }
   },
   "source": [
    "## Additional Resources\n",
    "\n",
    "* <img src=\"bd.png\" style=\"display: inline;\" />The first four exercises introduce simple kinds of natural language processing (NLP). The [Natural Language Toolkit](http://www.nltk.org/) (NLTK) is a feature-rich Python library for all kinds of NLP tasks: CI uses this in multiple ways. \n",
    "    * <img src=\"bd.png\" style=\"display: inline;\" /><img src=\"bd.png\" style=\"display: inline;\" />I gave [a talk on NLTK at LinuxFest NW in 2008](http://www.semanticbible.com/other/talks/2008/nltk/main.html) if you're interested in more details. \n",
    "    * <img src=\"bd.png\" style=\"display: inline;\" />We could spend a whole session introducing NLP and NLTK if people are interested\n",
    "* <img src=\"bd.png\" style=\"display: inline;\" />Python's `collections` module has a [`Counter` class](https://docs.python.org/2/library/collections.html) that simplifies histograms\n",
    "    * NLTK has a much more powerful `FreqDist` class\n",
    "* <img src=\"bd.png\" style=\"display: inline;\" />[Zipf's law](https://en.wikipedia.org/wiki/Zipf%27s_law) (Exercise 13.9) controls many social behaviors, including much of language: it's worth understanding how it works and thinking where it applies. \n"
   ]
  }
 ],
 "metadata": {
  "celltoolbar": "Slideshow",
  "kernelspec": {
   "display_name": "Python 2",
   "language": "python",
   "name": "python2"
  },
  "language_info": {
   "codemirror_mode": {
    "name": "ipython",
    "version": 2
   },
   "file_extension": ".py",
   "mimetype": "text/x-python",
   "name": "python",
   "nbconvert_exporter": "python",
   "pygments_lexer": "ipython2",
   "version": "2.7.9"
  }
 },
 "nbformat": 4,
 "nbformat_minor": 0
}
