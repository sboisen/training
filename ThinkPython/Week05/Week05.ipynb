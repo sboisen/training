{
 "cells": [
  {
   "cell_type": "markdown",
   "metadata": {
    "slideshow": {
     "slide_type": "slide"
    }
   },
   "source": [
    "# Think Python: Week 05\n",
    "\n",
    "<img src=\"automating-tasks.png\" style=\"float:right;\" />\n",
    "Slides: http://github.com/sboisen/training/ThinkPython/Week05"
   ]
  },
  {
   "cell_type": "markdown",
   "metadata": {
    "slideshow": {
     "slide_type": "slide"
    }
   },
   "source": [
    "## Questions from last class or Chapter 5?"
   ]
  },
  {
   "cell_type": "markdown",
   "metadata": {
    "slideshow": {
     "slide_type": "slide"
    }
   },
   "source": [
    "## Goals for today\n",
    "\n",
    "* Functions that return values \n",
    "* Boolean functions\n",
    "* Checking type\n",
    "* URLs, APIs, and other TLAs"
   ]
  },
  {
   "cell_type": "markdown",
   "metadata": {
    "slideshow": {
     "slide_type": "slide"
    }
   },
   "source": [
    "## Return Values: Questions?"
   ]
  },
  {
   "cell_type": "markdown",
   "metadata": {
    "slideshow": {
     "slide_type": "fragment"
    }
   },
   "source": [
    "* Every function returns a value (default=`None`)\n",
    "* You can have multiple return statements (but only the first will get executed)"
   ]
  },
  {
   "cell_type": "code",
   "execution_count": null,
   "metadata": {
    "collapsed": true,
    "slideshow": {
     "slide_type": "subslide"
    }
   },
   "outputs": [],
   "source": [
    "# Exercise 6.1\n",
    "# Python already cmp() which does this\n",
    "def compare(x, y):\n",
    "    if x > y:\n",
    "        return 1\n",
    "    elif x == y:\n",
    "        return 0\n",
    "    elif x < y:\n",
    "        return -1\n",
    "    "
   ]
  },
  {
   "cell_type": "code",
   "execution_count": null,
   "metadata": {
    "collapsed": false,
    "slideshow": {
     "slide_type": "fragment"
    }
   },
   "outputs": [],
   "source": [
    "compare(2, 3)"
   ]
  },
  {
   "cell_type": "markdown",
   "metadata": {
    "slideshow": {
     "slide_type": "slide"
    }
   },
   "source": [
    "## Incremental Development\n",
    "\n",
    "-   A simple development process:\n",
    "    -   Decompose your problem into separate pieces based on\n",
    "        functionality and required information\n",
    "    -   Build and test the smallest pieces first\n",
    "    -   Choose function names that increase understanding\n",
    "-   Art: plan for generality and re-use\n",
    "    -   Example: a function that takes a parameter is easier to re-use\n",
    "        than one that hard-wires values internally\n",
    "    -   Minimize input assumptions\n"
   ]
  },
  {
   "cell_type": "markdown",
   "metadata": {
    "slideshow": {
     "slide_type": "slide"
    }
   },
   "source": [
    "## Checking Types\n",
    "\n",
    "* `assert` is another way to guard functions from bad input\n",
    "* `assert` raises an exception: different from warnings\n"
   ]
  },
  {
   "cell_type": "code",
   "execution_count": null,
   "metadata": {
    "collapsed": false,
    "slideshow": {
     "slide_type": "fragment"
    }
   },
   "outputs": [],
   "source": [
    "mystr = 'python'\n",
    "assert(len(mystr) > 0), 'string length should be non-zero'"
   ]
  },
  {
   "cell_type": "code",
   "execution_count": null,
   "metadata": {
    "collapsed": false,
    "slideshow": {
     "slide_type": "fragment"
    }
   },
   "outputs": [],
   "source": [
    "assert(len(mystr) > 16), 'string length should be greater than 16'"
   ]
  },
  {
   "cell_type": "markdown",
   "metadata": {
    "slideshow": {
     "slide_type": "slide"
    }
   },
   "source": [
    "## URLs\n",
    "\n",
    "* One of the most important data schemes of recent decades\n",
    "* 'Just' a string, but *structured*\n",
    "* URL = Uniform Resource Locator ([Wikipedia: Uniform resource locator](https://en.wikipedia.org/wiki/Uniform_resource_locator))"
   ]
  },
  {
   "cell_type": "markdown",
   "metadata": {
    "slideshow": {
     "slide_type": "subslide"
    }
   },
   "source": [
    "## The Anatomy of a URL\n",
    "\n",
    "<img src='URL-anatomy.png' />\n",
    "\n",
    "\n",
    "(Hat tip: https://moz.com/blog/seo-cheat-sheet-anatomy-of-a-url)"
   ]
  },
  {
   "cell_type": "markdown",
   "metadata": {
    "slideshow": {
     "slide_type": "subslide"
    }
   },
   "source": [
    "* Specific syntax for constructing a valid URL"
   ]
  },
  {
   "cell_type": "markdown",
   "metadata": {
    "slideshow": {
     "slide_type": "fragment"
    }
   },
   "source": [
    "* More general elements on the left, more detailed elements on the right"
   ]
  },
  {
   "cell_type": "markdown",
   "metadata": {
    "slideshow": {
     "slide_type": "fragment"
    }
   },
   "source": [
    "* Some elements have a limited set of values\n",
    "  * Other protocols: ftp, mailto, news, file\n",
    "  * Limited set of Top-Level Domains (TLDs)"
   ]
  },
  {
   "cell_type": "markdown",
   "metadata": {
    "slideshow": {
     "slide_type": "fragment"
    }
   },
   "source": [
    "* Some characters are special: `:`, `/`, `?`, `#`, `[]`, `@`\n",
    "  * These and non-ASCII characters need special encoding\n"
   ]
  },
  {
   "cell_type": "markdown",
   "metadata": {
    "slideshow": {
     "slide_type": "subslide"
    }
   },
   "source": [
    "Other examples:\n",
    "\n",
    "* https://www.linkedin.com/in/seanboisen\n",
    "* https://businessdesk/Users/Edit.aspx?UserID=149006 (that's my civilian Faithlife identity)\n",
    "* http://www.amazon.com/Think-Python-Allen-B-Downey/dp/144933072X/ (144933072X is the ISBN-10 identifier)\n",
    "* Same ISBN on Goodreads: https://www.goodreads.com/book/isbn?isbn=144933072X\n",
    "* Same ISBN at Whatcom Library (through worldcat.org): http://xissn.worldcat.org/liblook2/resolve.htm?res_id=41234&rft.isbn=144933072X"
   ]
  },
  {
   "cell_type": "markdown",
   "metadata": {
    "slideshow": {
     "slide_type": "subslide"
    }
   },
   "source": [
    "* New Bible Dictionary product page: https://www.logos.com/product/310/the-new-bible-dictionary-third-edition\n",
    "* In BusinessDesk (via SKU): https://businessdesk/Products/EditProduct.aspx?ProductId=310\n",
    "* In BusinessDesk (via resource ID): https://businessdesk/Products/Tokens/Libronix/Details.aspx?ProductToken=LLS%3a14.0.1\n",
    "* In Library Manager (via resource ID): https://librarymanager.lrscorp.net/metadata/LLS%3a14.0.1"
   ]
  },
  {
   "cell_type": "markdown",
   "metadata": {
    "slideshow": {
     "slide_type": "subslide"
    }
   },
   "source": [
    "### A URL from Faithlife Email\n",
    "\n",
    "http://sgmail.faithlife.com/wf/click?upn=6PA595q5v4z2rHP-2Bi-2F654JDq5OFIRgefci5xnU1qs-2Bc2cndsnQyRKjZnes03WsMBs5v3W41oZt5gcKe9J-2FNCB1uQalYcnn8ySdw92SR1Yb8XHKJu1C3nR4JY7bwJZotsbSZNgKXTNoTwQZKa1dhq-2Flp4w4DqlOuSIFd6zi1v2emURGP808Jg89d1RlrSNPZOa6CWXrQHOc-2FFGZKHpWOYkYnTZ9Kyi7rUS-2BDlNupmb8U-3D_rhoaRQlbpQcxgRCSQdkkvK4gX2NDT1QF6zCopL-2BppiH6Nq6DorY8rrpAIo4j3RuoXmFRS0LeamfrYru3RB764SsKyf6ruXyPR3HI7PHw62sB8YaJbvTZPoAMVYXuzTS2-2BuPhKOmP-2FuUFpFC4vc-2Bin5OwtzNyrMq1Q7g7vWZ4mmCvLGMl2vikvxHvBPz8GfMYjQ-2Bt7pGOhTY25uK3A9cTnFD5nXwN0h4NJYqd34PuG2FbdZNytMNbY3uKN-2FjO424Mic-2FkIlS1N75v9jht24R4kA-3D-3D\n",
    "\n",
    "* protocol: http\n",
    "* subdomain: sgmail\n",
    "* domain: faithlife\n",
    "* TLD: com\n",
    "* path: wf/click\n",
    "* parameters:\n",
    "  * upn = [that ridiculously long thing]"
   ]
  },
  {
   "cell_type": "markdown",
   "metadata": {
    "slideshow": {
     "slide_type": "subslide"
    }
   },
   "source": [
    "## URL Parameters and Python Functions\n",
    "\n",
    "    def makeURL(?):\n",
    "        pass"
   ]
  },
  {
   "cell_type": "code",
   "execution_count": null,
   "metadata": {
    "collapsed": false,
    "slideshow": {
     "slide_type": "fragment"
    }
   },
   "outputs": [],
   "source": [
    "def makeURL(domain, protocol='http', tld='com', subdomain='', path='', parameterstr='', target=''):\n",
    "    # should validate protocol, tld, check character validity, etc.\n",
    "    # doesn't handle 'local' domains (no TLD)\n",
    "    if subdomain:\n",
    "        domainstr = subdomain + '.' + domain\n",
    "    else:\n",
    "        domainstr = domain\n",
    "    # syntax-only characters like '://' aren't parameters, they're the knowledge encapsulated in the function\n",
    "    base = protocol + '://' + domainstr + '.' + tld + '/'\n",
    "    if path:\n",
    "        base += path + '/'\n",
    "    if parameterstr:\n",
    "        base += '?' + parameterstr\n",
    "    if target:\n",
    "        base += '#' + target\n",
    "    return base"
   ]
  },
  {
   "cell_type": "code",
   "execution_count": null,
   "metadata": {
    "collapsed": false,
    "slideshow": {
     "slide_type": "subslide"
    }
   },
   "outputs": [],
   "source": [
    "makeURL('faithlife')"
   ]
  },
  {
   "cell_type": "code",
   "execution_count": null,
   "metadata": {
    "collapsed": false,
    "slideshow": {
     "slide_type": "fragment"
    }
   },
   "outputs": [],
   "source": [
    "# https://www.logos.com/product/310/the-new-bible-dictionary-third-edition\n",
    "makeURL('logos', subdomain='www', path='product/310/the-new-bible-dictionary-third-edition')"
   ]
  },
  {
   "cell_type": "markdown",
   "metadata": {
    "slideshow": {
     "slide_type": "slide"
    }
   },
   "source": [
    "## The 5-Minute Guide to Web APIs\n",
    "\n",
    "-   API = Application Programming Interface, a method for software components to talk to each other\n",
    "-   The future of the web is machine-to-machine communcation\n",
    "-   Four aspects of a RESTful web service (web API)\n",
    "    -   Base URI for the service (e.g. `http://api.biblia.com/v1/bible`)\n",
    "    -   Supported media type(s) (Biblia: JSON/text and XML)\n",
    "    -   The methods supported by the API (Biblia: `Content`, `Search`, `Parse`, and others)\n",
    "    -   Hypertext-driven\n"
   ]
  },
  {
   "cell_type": "markdown",
   "metadata": {
    "slideshow": {
     "slide_type": "subslide"
    }
   },
   "source": [
    "## Biblia's `Content` Service\n",
    "\n",
    "-   Return content for a specified Bible\n",
    "-   Example:\n",
    "    [http://api.biblia.com/v1/bible/content/LEB.txt?passage=Mark+4:9&key=MyAPIKey](http://api.biblia.com/v1/bible/content/LEB.txt?passage=Mark+4:9&key=5ed223a198307ffde317add78fe15710)\n",
    "-   [Documentation](http://api.biblia.com/docs/Bible_Content)\n",
    "-   Biblia API methods are read-only\n"
   ]
  },
  {
   "cell_type": "markdown",
   "metadata": {
    "slideshow": {
     "slide_type": "slide"
    }
   },
   "source": [
    "## For Next Time\n",
    "\n",
    "* **No class next week.** Next class is July 7th.\n",
    "* Read chapter 7\n",
    "* Read [the Biblia API documentation](http://api.biblia.com/docs/Bible_Content), get yourself an [API Key](http://bibliaapi.com/docs/API_Keys), and write some code to exercise it. See [biblia.py](https://github.com/sboisen/training/blob/master/ThinkPython/Week05/biblia.py) for one example after you've tried yourself. "
   ]
  },
  {
   "cell_type": "markdown",
   "metadata": {
    "slideshow": {
     "slide_type": "subslide"
    }
   },
   "source": [
    "## Additional Resources\n",
    "\n",
    "* [Validate an URL address - FormValidation](http://formvalidation.io/validators/uri/) checks URL syntax\n",
    "* [Url Parser from FreeFormatter.com](http://www.freeformatter.com/url-parser-query-string-splitter.html) parses a URL and shows you the components. However, it doesn't flag invalid URLs. \n",
    "* <img src=\"bd.png\" style=\"display: inline;\" /><img src=\"bd.png\" style=\"display: inline;\" />[The W3C Specification for URLs (1994)](http://www.w3.org/Addressing/URL/url-spec.txt)\n",
    "* <img src=\"bd.png\" style=\"display: inline;\" />The standard [urlparse](https://docs.python.org/2/library/urlparse.html) module in Python will take a string representing a URL and parse it into its various components. \n"
   ]
  }
 ],
 "metadata": {
  "celltoolbar": "Slideshow",
  "kernelspec": {
   "display_name": "Python 2",
   "language": "python",
   "name": "python2"
  },
  "language_info": {
   "codemirror_mode": {
    "name": "ipython",
    "version": 2
   },
   "file_extension": ".py",
   "mimetype": "text/x-python",
   "name": "python",
   "nbconvert_exporter": "python",
   "pygments_lexer": "ipython2",
   "version": "2.7.9"
  }
 },
 "nbformat": 4,
 "nbformat_minor": 0
}
