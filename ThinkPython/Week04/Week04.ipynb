{
 "cells": [
  {
   "cell_type": "markdown",
   "metadata": {
    "slideshow": {
     "slide_type": "slide"
    }
   },
   "source": [
    "# Think Python: Week 04\n",
    "\n",
    "<img src=\"easy_vs_hard.png\" style=\"float:right;\" />\n",
    "Slides: http://github.com/sboisen/training/ThinkPython/Week04"
   ]
  },
  {
   "cell_type": "markdown",
   "metadata": {
    "slideshow": {
     "slide_type": "slide"
    }
   },
   "source": [
    "## Questions from last class or Chapter 4?"
   ]
  },
  {
   "cell_type": "markdown",
   "metadata": {
    "slideshow": {
     "slide_type": "slide"
    }
   },
   "source": [
    "## Goals for today\n",
    "\n",
    "* Cover boolean expressions\n",
    "* Cover recursion, conditionals, *flow of control*\n",
    "* Start thinking about a class project"
   ]
  },
  {
   "cell_type": "markdown",
   "metadata": {
    "slideshow": {
     "slide_type": "slide"
    }
   },
   "source": [
    "## Boolean Expressions and Logic\n",
    "* `bool` is a *type*\n",
    "* `and`, `or`, `not` work like you'd expect\n",
    "* Testing for equality is `==`: assignment is `=`\n",
    "* Non-zero is treated as True"
   ]
  },
  {
   "cell_type": "markdown",
   "metadata": {
    "slideshow": {
     "slide_type": "subslide"
    }
   },
   "source": [
    "### Quiz: Boolean Values"
   ]
  },
  {
   "cell_type": "code",
   "execution_count": null,
   "metadata": {
    "collapsed": false,
    "slideshow": {
     "slide_type": "fragment"
    }
   },
   "outputs": [],
   "source": [
    "bool(3)"
   ]
  },
  {
   "cell_type": "code",
   "execution_count": null,
   "metadata": {
    "collapsed": false,
    "slideshow": {
     "slide_type": "fragment"
    }
   },
   "outputs": [],
   "source": [
    "bool(0)"
   ]
  },
  {
   "cell_type": "code",
   "execution_count": null,
   "metadata": {
    "collapsed": false,
    "slideshow": {
     "slide_type": "fragment"
    }
   },
   "outputs": [],
   "source": [
    "bool(-1)"
   ]
  },
  {
   "cell_type": "code",
   "execution_count": null,
   "metadata": {
    "collapsed": false,
    "slideshow": {
     "slide_type": "fragment"
    }
   },
   "outputs": [],
   "source": [
    "bool('')"
   ]
  },
  {
   "cell_type": "code",
   "execution_count": null,
   "metadata": {
    "collapsed": false,
    "slideshow": {
     "slide_type": "fragment"
    }
   },
   "outputs": [],
   "source": [
    "bool('False')"
   ]
  },
  {
   "cell_type": "code",
   "execution_count": null,
   "metadata": {
    "collapsed": false,
    "slideshow": {
     "slide_type": "fragment"
    }
   },
   "outputs": [],
   "source": [
    "bool(int)"
   ]
  },
  {
   "cell_type": "code",
   "execution_count": null,
   "metadata": {
    "collapsed": false,
    "slideshow": {
     "slide_type": "fragment"
    }
   },
   "outputs": [],
   "source": [
    "bool(int('0'))"
   ]
  },
  {
   "cell_type": "code",
   "execution_count": null,
   "metadata": {
    "collapsed": false,
    "slideshow": {
     "slide_type": "fragment"
    }
   },
   "outputs": [],
   "source": [
    "bool(len)"
   ]
  },
  {
   "cell_type": "markdown",
   "metadata": {
    "slideshow": {
     "slide_type": "slide"
    }
   },
   "source": [
    "## Recursion\n",
    "\n",
    "<img src='recursion.jpg' style='float:right' />\n",
    "\n",
    "* Sometimes a recursive approach is the most elegant one, but you don't *have* to use recursion if it confuses you\n",
    "* Define your stopping point *first*, and do so clearly"
   ]
  },
  {
   "cell_type": "markdown",
   "metadata": {
    "slideshow": {
     "slide_type": "subslide"
    }
   },
   "source": [
    "### Pseudo-code for Slicing Bread\n",
    "\n",
    "    define slice(loaf):\n",
    "        if thickness(loaf) < 1\":\n",
    "            return loaf\n",
    "        else:\n",
    "            oneslice, shorter_loaf = take_a_slice(loaf)\n",
    "            return oneslice + slice(shorter_loaf)\n"
   ]
  },
  {
   "cell_type": "markdown",
   "metadata": {
    "slideshow": {
     "slide_type": "slide"
    }
   },
   "source": [
    "## Computing Day of the Week \n",
    "\n",
    "Write a function `july()` which takes a date and prints out the day of the week on which that date falls in July 2015. Examples:\n",
    "    >>> july(14)\n",
    "    Tuesday\n",
    "    >>> july(4)\n",
    "    Saturday"
   ]
  },
  {
   "cell_type": "markdown",
   "metadata": {
    "slideshow": {
     "slide_type": "subslide"
    }
   },
   "source": [
    "### Getting Started: Understanding the Problem\n",
    "\n",
    "* Seven-day cycle\n",
    "* Each month starts on a different day\n",
    "* `int` for date"
   ]
  },
  {
   "cell_type": "markdown",
   "metadata": {
    "slideshow": {
     "slide_type": "subslide"
    }
   },
   "source": [
    "### Version 0\n",
    "\n",
    "    def july(date):\n",
    "        \"\"\"Given an integer DATE in the month of July,\n",
    "        print which day of the week it falls on. In 2015, \n",
    "        July starts on a Wednesday. \"\"\"\n",
    "        if day == 1:\n",
    "            print \"Wednesday\"\n",
    "        elif day == 2:\n",
    "            print \"Thursday\"\n",
    "        elif day == 3:\n",
    "            print \"Friday\"\n",
    "        elif day == 4:\n",
    "            print \"Saturday\"\n",
    "        elif day == 5:\n",
    "            print \"Sunday\"\n",
    "        elif day == 6:\n",
    "            print \"Monday\"\n",
    "        # a lot more lines go here ...\n",
    "        elif day == 30:\n",
    "            print \"Thursday\"\n",
    "        elif day == 31:\n",
    "            print \"Friday\"\n"
   ]
  },
  {
   "cell_type": "markdown",
   "metadata": {
    "slideshow": {
     "slide_type": "subslide"
    }
   },
   "source": [
    "Pro:\n",
    "\n",
    "* Solves the problem\n",
    "* Simple\n",
    "\n",
    "Con:\n",
    "\n",
    "* Doesn't represent the problem well\n",
    "  * Arbitrary relationship between dates and days\n",
    "  * Misses obvious weekly regularity\n",
    "* `print` statements repeated many times\n",
    "* Not general\n",
    "* Limited to a single month"
   ]
  },
  {
   "cell_type": "markdown",
   "metadata": {
    "slideshow": {
     "slide_type": "subslide"
    }
   },
   "source": [
    "### Version 1\n",
    "\n",
    "    def july(date):\n",
    "        \"\"\"Given an integer DATE for a date in the month of July, print\n",
    "        which day of the week it falls on. In 2015, July starts on a Wednesday.\n",
    "        \"\"\"\n",
    "        weekday = (date % 7)\n",
    "        if weekday == 1:\n",
    "            print \"Wednesday\"\n",
    "        elif weekday == 2:\n",
    "            print \"Thursday\"\n",
    "        elif weekday == 3:\n",
    "            print \"Friday\"\n",
    "        elif weekday == 4:\n",
    "            print \"Saturday\"\n",
    "        elif weekday == 5:\n",
    "            print \"Sunday\"\n",
    "        elif weekday == 6:\n",
    "            print \"Monday\"\n",
    "        elif weekday == 0:\n",
    "            print \"Tuesday\"\n"
   ]
  },
  {
   "cell_type": "markdown",
   "metadata": {
    "slideshow": {
     "slide_type": "subslide"
    }
   },
   "source": [
    "Pro:\n",
    "\n",
    "* Solves the problem\n",
    "* Captures weekly cycle\n",
    "* `print` statements not repeated (DRY)\n",
    "\n",
    "Con:\n",
    "\n",
    "* Arbitrary relationship between dates and days\n",
    "* Limited to a single month"
   ]
  },
  {
   "cell_type": "markdown",
   "metadata": {
    "slideshow": {
     "slide_type": "subslide"
    }
   },
   "source": [
    "### Version 2\n",
    "\n",
    "    def july(date):\n",
    "        \"\"\"Given an integer DATE for a date in the month of July, print\n",
    "        which day of the week it falls on. In 2015, July starts on a Wednesday.\n",
    "        \"\"\"\n",
    "        # in 2015, July 1st fell on a Wednesday (fourth day)\n",
    "        first_day = 4\n",
    "        weekday = ((date + first_day) % 7)\n",
    "        if weekday == 0:\n",
    "            print \"Friday\"\n",
    "        elif weekday == 1:\n",
    "            print \"Saturday\"\n",
    "        elif weekday == 2:\n",
    "            print \"Sunday\"\n",
    "        elif weekday == 3:\n",
    "            print \"Monday\"\n",
    "        elif weekday == 4:\n",
    "            print \"Tuesday\"\n",
    "        elif weekday == 5:\n",
    "            print \"Wednesday\"\n",
    "        elif weekday == 6:\n",
    "            print \"Thursday\"\n"
   ]
  },
  {
   "cell_type": "markdown",
   "metadata": {
    "slideshow": {
     "slide_type": "subslide"
    }
   },
   "source": [
    "Con:\n",
    "\n",
    "* Limited to a single month\n",
    "* Printing tightly coupled with computation\n",
    "* Modulus math and first_day are zero-based, day-of-week printing is one-based"
   ]
  },
  {
   "cell_type": "markdown",
   "metadata": {
    "slideshow": {
     "slide_type": "subslide"
    }
   },
   "source": [
    "### Version 3\n",
    "\n",
    "* **Generalize** by adding an argument for the first day of the month\n",
    "* **Encapsulate** printing weekday names into its own function and **refactor**\n",
    "* Make data representation consistently zero-based"
   ]
  },
  {
   "cell_type": "code",
   "execution_count": null,
   "metadata": {
    "collapsed": true,
    "slideshow": {
     "slide_type": "subslide"
    }
   },
   "outputs": [],
   "source": [
    "# in 2015, July 1st fell on a Wednesday (day=3)\n",
    "def day_of_week(date, first_day):\n",
    "    \"\"\"Given an integer DATE for a month that starts on FIRST_DAY, print\n",
    "    which day of the week it falls on. FIRST_DAY counts from 0,\n",
    "    starting on Sunday. \"\"\"\n",
    "    # subtract 1 from date to make it zero-based like other math\n",
    "    date = date - 1\n",
    "    print_day((date + first_day) % 7)\n",
    "\n",
    "# separate out printing from computation\n",
    "def print_day(day):\n",
    "    \"\"\"Given an integer code DAY for a day of the week, print its corresponding name.\n",
    "    DAY ranges from 0-6 (Sunday-Saturday). \n",
    "    \"\"\"\n",
    "    # If it's a string, convert it to an int (Postel's Law)\n",
    "    # principle: do such conversions early on\n",
    "    day = int(day)\n",
    "    if day == 0:\n",
    "       print \"Sunday\"\n",
    "    elif day == 1:\n",
    "        print \"Monday\"\n",
    "    elif day == 2:\n",
    "        print \"Tuesday\"\n",
    "    elif day == 3:\n",
    "        print \"Wednesday\"\n",
    "    elif day == 4:\n",
    "        print \"Thursday\"\n",
    "    elif day == 5:\n",
    "        print \"Friday\"\n",
    "    elif day == 6:\n",
    "        print \"Saturday\"\n"
   ]
  },
  {
   "cell_type": "code",
   "execution_count": null,
   "metadata": {
    "collapsed": false,
    "slideshow": {
     "slide_type": "subslide"
    }
   },
   "outputs": [],
   "source": [
    "# July 1st\n",
    "day_of_week(1, 3)"
   ]
  },
  {
   "cell_type": "code",
   "execution_count": null,
   "metadata": {
    "collapsed": false,
    "slideshow": {
     "slide_type": "fragment"
    }
   },
   "outputs": [],
   "source": [
    "# July 4th\n",
    "day_of_week(4, 3)"
   ]
  },
  {
   "cell_type": "code",
   "execution_count": null,
   "metadata": {
    "collapsed": false,
    "slideshow": {
     "slide_type": "fragment"
    }
   },
   "outputs": [],
   "source": [
    "# July 30th\n",
    "day_of_week(30, 3)"
   ]
  },
  {
   "cell_type": "code",
   "execution_count": null,
   "metadata": {
    "collapsed": false,
    "slideshow": {
     "slide_type": "fragment"
    }
   },
   "outputs": [],
   "source": [
    "# today, June 16th (June 1st was Monday, day 1)\n",
    "day_of_week(16, 1)"
   ]
  },
  {
   "cell_type": "code",
   "execution_count": null,
   "metadata": {
    "collapsed": false,
    "slideshow": {
     "slide_type": "fragment"
    }
   },
   "outputs": [],
   "source": [
    "# July 32nd ?!?\n",
    "day_of_week(32, 3)"
   ]
  },
  {
   "cell_type": "code",
   "execution_count": null,
   "metadata": {
    "collapsed": false,
    "slideshow": {
     "slide_type": "fragment"
    }
   },
   "outputs": [],
   "source": [
    "# June 0th ?!?\n",
    "day_of_week(0, 1)"
   ]
  },
  {
   "cell_type": "markdown",
   "metadata": {
    "slideshow": {
     "slide_type": "subslide"
    }
   },
   "source": [
    "### Best Practices\n",
    "\n",
    "* Start with simpler cases and work up to more complex ones\n",
    "* Test as you go\n",
    "* The best code reflects the structure of the problem\n",
    "  * Arbitrary details tend to hide bugs and make code difficult to modify\n",
    "* The right data structure can make problems much easier\n",
    "* Encapsulate, generalize, refactor"
   ]
  },
  {
   "cell_type": "markdown",
   "metadata": {
    "slideshow": {
     "slide_type": "subslide"
    }
   },
   "source": [
    "### More Improvements\n",
    "\n",
    "* How to help the user know how to express first_day?\n",
    "* More flexible **mapping** between numbers and days of the week\n",
    "* How to treat exceptional input?"
   ]
  },
  {
   "cell_type": "markdown",
   "metadata": {
    "slideshow": {
     "slide_type": "slide"
    }
   },
   "source": [
    "## For Next Week\n",
    "\n",
    "* Read chapter 6\n",
    "* Think about some practical projects that would help you"
   ]
  },
  {
   "cell_type": "markdown",
   "metadata": {
    "slideshow": {
     "slide_type": "subslide"
    }
   },
   "source": [
    "## Additional Resources\n",
    "\n",
    "Lots of extra goodies this week!\n",
    "\n",
    "* <img src=\"bd.png\" style=\"display: inline;\" /><img src=\"bd.png\" style=\"display: inline;\" />[What is Code? Paul Ford in Bloomberg](http://www.bloomberg.com/graphics/2015-paul-ford-what-is-code)\n",
    "  * [A much shorter summary](http://gizmodo.com/i-read-this-mammoth-essay-on-code-to-make-you-38-thousa-1710644308)\n",
    "* [8 Barriers to Overcome when Learning to Code](http://thenextweb.com/dd/2015/06/11/8-barriers-to-overcome-when-learning-to-code/)\n",
    "* [How Hip Hop can Teach You to Code](http://boingboing.net/2015/06/09/how-hip-hop-can-teach-you-to-c.html?utm_source=nextdraft)\n",
    "* <img src=\"bd.png\" style=\"display: inline;\" /><img src=\"bd.png\" style=\"display: inline;\" />[Why doesn't Python have switch case?](http://www.reddit.com/r/Python/comments/3970zf/why_doesnt_python_have_switchcase/)\n"
   ]
  },
  {
   "cell_type": "markdown",
   "metadata": {
    "slideshow": {
     "slide_type": "subslide"
    }
   },
   "source": [
    "## A Request\n",
    "\n",
    "Go to my LinkedIn page (https://www.linkedin.com/in/seanboisen) and \n",
    "\n",
    "* Connect with me\n",
    "* Endorse me for a few skills\n",
    "  * Computer Science\n",
    "  * Python\n",
    "  * Teaching"
   ]
  }
 ],
 "metadata": {
  "celltoolbar": "Slideshow",
  "kernelspec": {
   "display_name": "Python 2",
   "language": "python",
   "name": "python2"
  },
  "language_info": {
   "codemirror_mode": {
    "name": "ipython",
    "version": 2
   },
   "file_extension": ".py",
   "mimetype": "text/x-python",
   "name": "python",
   "nbconvert_exporter": "python",
   "pygments_lexer": "ipython2",
   "version": "2.7.9"
  }
 },
 "nbformat": 4,
 "nbformat_minor": 0
}
