{
 "cells": [
  {
   "cell_type": "markdown",
   "metadata": {
    "slideshow": {
     "slide_type": "slide"
    }
   },
   "source": [
    "# Think Python: Week 11\n",
    "\n",
    "Slides: http://github.com/sboisen/training/ThinkPython/Week11"
   ]
  },
  {
   "cell_type": "markdown",
   "metadata": {
    "slideshow": {
     "slide_type": "slide"
    }
   },
   "source": [
    "## Schedule\n",
    "\n",
    "* ~8 more classes to cover the book (we'll probably skip Chap 19 on Tkinter unless people really want it)\n",
    "* No class on these days:\n",
    "    * Nov 24\n",
    "    * Dec 1\n",
    "    * Dec 8\n",
    "* Final exam on Dec 15 :-)"
   ]
  },
  {
   "cell_type": "markdown",
   "metadata": {
    "slideshow": {
     "slide_type": "subslide"
    }
   },
   "source": [
    "# Questions?\n",
    "* Anything from the last month\n",
    "* Projects you'd like to tackle\n",
    "* Other topics beyond the book you'd like to cover"
   ]
  },
  {
   "cell_type": "markdown",
   "metadata": {
    "slideshow": {
     "slide_type": "slide"
    }
   },
   "source": [
    "## Tuples: Why You Should Care\n",
    "* Tuples are another sequence type like lists, but immutable\n",
    "* Some functions return tuples, so tuple assignment is useful\n",
    "* Tuple syntax can be a little confusing, so you should understand it"
   ]
  },
  {
   "cell_type": "markdown",
   "metadata": {
    "slideshow": {
     "slide_type": "subslide"
    }
   },
   "source": [
    "### Tuples are instantiated by commas, not parenthesis"
   ]
  },
  {
   "cell_type": "code",
   "execution_count": 8,
   "metadata": {
    "collapsed": false,
    "slideshow": {
     "slide_type": "fragment"
    }
   },
   "outputs": [
    {
     "name": "stdout",
     "output_type": "stream",
     "text": [
      "(1, 2)\n"
     ]
    },
    {
     "data": {
      "text/plain": [
       "tuple"
      ]
     },
     "execution_count": 8,
     "metadata": {},
     "output_type": "execute_result"
    }
   ],
   "source": [
    "foo = 1, 2\n",
    "print foo\n",
    "type(foo)"
   ]
  },
  {
   "cell_type": "code",
   "execution_count": 9,
   "metadata": {
    "collapsed": false,
    "slideshow": {
     "slide_type": "fragment"
    }
   },
   "outputs": [
    {
     "name": "stdout",
     "output_type": "stream",
     "text": [
      "1\n"
     ]
    },
    {
     "data": {
      "text/plain": [
       "int"
      ]
     },
     "execution_count": 9,
     "metadata": {},
     "output_type": "execute_result"
    }
   ],
   "source": [
    "foo = (1)\n",
    "print foo\n",
    "type(foo)"
   ]
  },
  {
   "cell_type": "code",
   "execution_count": 11,
   "metadata": {
    "collapsed": false,
    "slideshow": {
     "slide_type": "fragment"
    }
   },
   "outputs": [
    {
     "name": "stdout",
     "output_type": "stream",
     "text": [
      "(1,)\n"
     ]
    },
    {
     "data": {
      "text/plain": [
       "tuple"
      ]
     },
     "execution_count": 11,
     "metadata": {},
     "output_type": "execute_result"
    }
   ],
   "source": [
    "foo = 1, \n",
    "print foo\n",
    "type(foo)"
   ]
  },
  {
   "cell_type": "code",
   "execution_count": 12,
   "metadata": {
    "collapsed": false
   },
   "outputs": [
    {
     "name": "stdout",
     "output_type": "stream",
     "text": [
      "Steve\n",
      "Peter\n"
     ]
    }
   ],
   "source": [
    "myd = {'Sean': 'here', 'Peter': 'absent', 'Steve': 'absent'}\n",
    "for k, v in myd.items():\n",
    "    if v == 'absent': print k"
   ]
  },
  {
   "cell_type": "markdown",
   "metadata": {
    "slideshow": {
     "slide_type": "slide"
    }
   },
   "source": [
    "## More on Tuples\n",
    "* Easy way to make complex keys for dictionaries and to iterate over `items()`\n",
    "* You can't accidentally change them inside a function (unlike lists)\n",
    "* 'gathering'/'scattering' function arguments"
   ]
  },
  {
   "cell_type": "markdown",
   "metadata": {
    "slideshow": {
     "slide_type": "slide"
    }
   },
   "source": [
    "## Using `zip`\n",
    "`zip` is a good way to combine a header row from a data table with subsequent values from each row. Putting them in a dict means you can process them by name (\"semantically\") rather than by position. "
   ]
  },
  {
   "cell_type": "code",
   "execution_count": 20,
   "metadata": {
    "collapsed": false
   },
   "outputs": [
    {
     "name": "stdout",
     "output_type": "stream",
     "text": [
      "3.9 What Got You Here Won't Get You There: How Successful People Become Even More Successful\n",
      "3.79 Mojo: How to Get It, How to Keep It, How to Get It Back If You Lose It\n",
      "3.69 Simple Rules: How to Thrive in a Complex World\n",
      "3.76 The Amazon Way: 14 Leadership Principles Behind the World's Most Disruptive Company\n",
      "4.31 The Essential Wooden: A Lifetime of Lessons on Leaders and Leadership\n",
      "3.8 Are You Fully Charged?: The 3 Keys to Energizing Your Work and Life\n",
      "4.02 People Over Profit: Break the System, Live with Purpose, Be More Successful\n",
      "4.07 Deep Change: Discovering the Leader Within\n",
      "3.8 Business Adventures\n",
      "4.12 Misbehaving: The Making of Behavioral Economics\n"
     ]
    }
   ],
   "source": [
    "# using the books.py example form Week09\n",
    "import books\n",
    "headers = books.sheet_headers()\n",
    "# just do the first 10 rows\n",
    "for row in books.sheet_matrix()[:10]:\n",
    "    rowdict = dict(zip(headers, row))\n",
    "    # now i don't need to know or care which column these values are in\n",
    "    print rowdict['Average Rating'], rowdict['Title']"
   ]
  },
  {
   "cell_type": "markdown",
   "metadata": {
    "slideshow": {
     "slide_type": "slide"
    }
   },
   "source": [
    "## Additional Resources\n",
    "\n",
    "* <img src=\"bd.png\" style=\"display: inline;\" />If you're intrigued by the author's discussion of `structshape`, you may want to look into [dataframes in the pandas module](http://pandas.pydata.org/pandas-docs/stable/dsintro.html)\n"
   ]
  },
  {
   "cell_type": "code",
   "execution_count": null,
   "metadata": {
    "collapsed": true
   },
   "outputs": [],
   "source": []
  }
 ],
 "metadata": {
  "celltoolbar": "Slideshow",
  "kernelspec": {
   "display_name": "Python 2",
   "language": "python",
   "name": "python2"
  },
  "language_info": {
   "codemirror_mode": {
    "name": "ipython",
    "version": 2
   },
   "file_extension": ".py",
   "mimetype": "text/x-python",
   "name": "python",
   "nbconvert_exporter": "python",
   "pygments_lexer": "ipython2",
   "version": "2.7.9"
  }
 },
 "nbformat": 4,
 "nbformat_minor": 0
}
