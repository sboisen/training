{
 "cells": [
  {
   "cell_type": "markdown",
   "metadata": {
    "slideshow": {
     "slide_type": "slide"
    }
   },
   "source": [
    "# Think Python: Week 14\n",
    "\n",
    "<img src=\"object-oriented-rich.jpeg\" style=\"align: right;\"/>\n",
    "Slides: http://github.com/sboisen/training/ThinkPython/Week14"
   ]
  },
  {
   "cell_type": "markdown",
   "metadata": {
    "slideshow": {
     "slide_type": "slide"
    }
   },
   "source": [
    "## Key Points\n",
    "* Classes and objects\n",
    "* Rethinking the Goodreads program `books.py`"
   ]
  },
  {
   "cell_type": "markdown",
   "metadata": {
    "slideshow": {
     "slide_type": "slide"
    }
   },
   "source": [
    "## Why Classes?\n",
    "-   Group together related behavior\n",
    "-   Group together related data\n",
    "-   Extend an existing class to do even more\n",
    "    -   You can freely assign new attributes to instances of user-defined classes\n",
    "-   Re-use code through *class inheritance*\n",
    "-   Classes are more self-documenting (introspection gives you hints as to\n",
    "    what an object can do)\n"
   ]
  },
  {
   "cell_type": "markdown",
   "metadata": {
    "slideshow": {
     "slide_type": "slide"
    }
   },
   "source": [
    "## Classes and Objects\n",
    "* A class definition (that's code) *defines* a new kind of object.\n",
    "    * It also defines a new Python type. \n",
    "* You *instantiate* a class (by calling it) to create a new object.\n",
    "        myobj = MyClass()\n",
    "* An object is an *instance* of a class.\n",
    "* Objects are mutable"
   ]
  },
  {
   "cell_type": "code",
   "execution_count": 59,
   "metadata": {
    "collapsed": false,
    "slideshow": {
     "slide_type": "fragment"
    }
   },
   "outputs": [
    {
     "name": "stdout",
     "output_type": "stream",
     "text": [
      "<type 'type'>\n",
      "<class '__main__.Book'>\n",
      "Help on Book in module __main__ object:\n",
      "\n",
      "class Book(__builtin__.object)\n",
      " |  Represents information about a book from Goodreads\n",
      " |  \n",
      " |  Data descriptors defined here:\n",
      " |  \n",
      " |  __dict__\n",
      " |      dictionary for instance variables (if defined)\n",
      " |  \n",
      " |  __weakref__\n",
      " |      list of weak references to the object (if defined)\n",
      " |  \n",
      " |  ----------------------------------------------------------------------\n",
      " |  Data and other attributes defined here:\n",
      " |  \n",
      " |  author = ''\n",
      " |  \n",
      " |  source = 'Goodreads'\n",
      " |  \n",
      " |  title = ''\n",
      "\n"
     ]
    }
   ],
   "source": [
    "# jumping ahead of the book: you can define default attribute values for your class\n",
    "class Book(object):\n",
    "    \"\"\"Represents information about a book from Goodreads\"\"\"\n",
    "    title = \"\"\n",
    "    author = \"\"\n",
    "    source = \"Goodreads\"\n",
    "\n",
    "mybook = Book()\n",
    "# \"Every Python object has a type\"\n",
    "print type(Book)\n",
    "print type(mybook)\n",
    "help(mybook)"
   ]
  },
  {
   "cell_type": "code",
   "execution_count": 60,
   "metadata": {
    "collapsed": false,
    "slideshow": {
     "slide_type": "subslide"
    }
   },
   "outputs": [
    {
     "data": {
      "text/plain": [
       "['__class__',\n",
       " '__delattr__',\n",
       " '__dict__',\n",
       " '__doc__',\n",
       " '__format__',\n",
       " '__getattribute__',\n",
       " '__hash__',\n",
       " '__init__',\n",
       " '__module__',\n",
       " '__new__',\n",
       " '__reduce__',\n",
       " '__reduce_ex__',\n",
       " '__repr__',\n",
       " '__setattr__',\n",
       " '__sizeof__',\n",
       " '__str__',\n",
       " '__subclasshook__',\n",
       " '__weakref__',\n",
       " 'author',\n",
       " 'source',\n",
       " 'title']"
      ]
     },
     "execution_count": 60,
     "metadata": {},
     "output_type": "execute_result"
    }
   ],
   "source": [
    "dir(mybook)"
   ]
  },
  {
   "cell_type": "code",
   "execution_count": 61,
   "metadata": {
    "collapsed": false,
    "slideshow": {
     "slide_type": "subslide"
    }
   },
   "outputs": [
    {
     "name": "stdout",
     "output_type": "stream",
     "text": [
      "__dict__ is {}\n",
      "title is Fire Someone Today\n"
     ]
    }
   ],
   "source": [
    "# this is where object attributes go, once defined\n",
    "print \"__dict__ is\", mybook.__dict__\n",
    "# change the title for this object\n",
    "mybook.title = \"Fire Someone Today\"\n",
    "print 'title is {}'.format(mybook.title)"
   ]
  },
  {
   "cell_type": "code",
   "execution_count": 62,
   "metadata": {
    "collapsed": false,
    "slideshow": {
     "slide_type": "subslide"
    }
   },
   "outputs": [
    {
     "name": "stdout",
     "output_type": "stream",
     "text": [
      "True\n",
      "author is \n"
     ]
    }
   ],
   "source": [
    "print hasattr(mybook, 'author')\n",
    "print \"author is\", mybook.author"
   ]
  },
  {
   "cell_type": "markdown",
   "metadata": {
    "slideshow": {
     "slide_type": "subslide"
    }
   },
   "source": [
    "## Class and Object Attributes\n",
    "* Both classes and objects have attributes\n",
    "    * But they're not the same!\n",
    "* Objects *inherit* class attributes"
   ]
  },
  {
   "cell_type": "code",
   "execution_count": 63,
   "metadata": {
    "collapsed": false,
    "slideshow": {
     "slide_type": "fragment"
    }
   },
   "outputs": [
    {
     "name": "stdout",
     "output_type": "stream",
     "text": [
      "Class attribute for title: \n",
      "Object attribute for title: Fire Someone Today\n"
     ]
    }
   ],
   "source": [
    "print \"Class attribute for title: {}\".format(Book.title)\n",
    "print \"Object attribute for title: {}\".format(mybook.title)"
   ]
  },
  {
   "cell_type": "markdown",
   "metadata": {
    "slideshow": {
     "slide_type": "subslide"
    }
   },
   "source": [
    "## Classes: Best Practices\n",
    "\n",
    "-   Classes are simple once you get the basics: so use them freely\n",
    "    -   Most built-in types are actually classes\n",
    "    -   If you have a couple of functions that all work on the same data, you **probably want a class**\n",
    "- Classes requiring careful thinking about *where information belongs*\n",
    "-   Know when to use `copy.deepcopy`\n"
   ]
  },
  {
   "cell_type": "markdown",
   "metadata": {
    "slideshow": {
     "slide_type": "slide"
    }
   },
   "source": [
    "## Rethinking `books.py`\n",
    "* Class attributes\n",
    "* Object attributes\n",
    "* Class behaviors"
   ]
  },
  {
   "cell_type": "code",
   "execution_count": 64,
   "metadata": {
    "collapsed": true,
    "slideshow": {
     "slide_type": "fragment"
    }
   },
   "outputs": [],
   "source": [
    "class GoodreadsBook(object):\n",
    "    author = \"\"\n",
    "    isbn = \"\"\n",
    "    myrating = 0\n",
    "    title = \"\"\n"
   ]
  },
  {
   "cell_type": "markdown",
   "metadata": {
    "slideshow": {
     "slide_type": "subslide"
    }
   },
   "source": [
    "## Things You'll Want to Know about Classes (But Don't Yet)\n",
    "\n",
    "-   More about defining them (especially adding *methods*)\n",
    "-   Initializing\n",
    "-   Changing the printed representation\n",
    "-   Identity and equivalence testing\n",
    "-   Sorting (comparison)\n",
    "-   Testing type\n"
   ]
  },
  {
   "cell_type": "markdown",
   "metadata": {
    "slideshow": {
     "slide_type": "slide"
    }
   },
   "source": [
    "## Additional Resources\n",
    "\n",
    "* <img src=\"bd.png\" style=\"display: inline;\" />[% String Formatting Operator](https://docs.python.org/2/library/stdtypes.html#index-25)"
   ]
  }
 ],
 "metadata": {
  "celltoolbar": "Slideshow",
  "kernelspec": {
   "display_name": "Python 2",
   "language": "python",
   "name": "python2"
  },
  "language_info": {
   "codemirror_mode": {
    "name": "ipython",
    "version": 2
   },
   "file_extension": ".py",
   "mimetype": "text/x-python",
   "name": "python",
   "nbconvert_exporter": "python",
   "pygments_lexer": "ipython2",
   "version": "2.7.9"
  }
 },
 "nbformat": 4,
 "nbformat_minor": 0
}
