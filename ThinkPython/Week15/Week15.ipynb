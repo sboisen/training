{
 "cells": [
  {
   "cell_type": "markdown",
   "metadata": {
    "slideshow": {
     "slide_type": "slide"
    }
   },
   "source": [
    "# Think Python: Week 15\n",
    "\n",
    "Slides: http://github.com/sboisen/training/ThinkPython/Week15"
   ]
  },
  {
   "cell_type": "markdown",
   "metadata": {
    "slideshow": {
     "slide_type": "slide"
    }
   },
   "source": [
    "## Exercise 16-3"
   ]
  },
  {
   "cell_type": "markdown",
   "metadata": {
    "slideshow": {
     "slide_type": "subslide"
    }
   },
   "source": [
    "## Pure Functions vs Modifier Functions\n",
    "\n",
    "* Both work\n",
    "* Longer-term advantages to pure functions\n",
    "    * Cleaner development\n",
    "    * Easier to debug\n",
    "    * Easier to build into larger programs\n"
   ]
  },
  {
   "cell_type": "markdown",
   "metadata": {
    "slideshow": {
     "slide_type": "subslide"
    }
   },
   "source": [
    "## Generality vs Effort\n",
    "\n",
    "> Ironically, sometimes making a problem harder (or more general) makes it easier (because there are fewer special cases and fewer opportunities for error).\n",
    "\n",
    "* Decide which payment program you prefer\n",
    "    * Cash up front\n",
    "    * Payment plan (with interest)"
   ]
  },
  {
   "cell_type": "markdown",
   "metadata": {
    "slideshow": {
     "slide_type": "slide"
    }
   },
   "source": [
    "## `assert()`\n",
    "\n",
    "> ... distinguish code that deals with normal conditions from code that checks for errors.\n",
    "\n",
    "`assert()` provides a clear way to document your assumptions. "
   ]
  },
  {
   "cell_type": "markdown",
   "metadata": {
    "slideshow": {
     "slide_type": "slide"
    }
   },
   "source": [
    "## Exercise: Bible Reference Class\n",
    "\n",
    "* What attributes?\n",
    "* What functions?"
   ]
  },
  {
   "cell_type": "markdown",
   "metadata": {
    "slideshow": {
     "slide_type": "slide"
    }
   },
   "source": [
    "## Joe's Program: Problem Statement\n",
    "* Goal: verify that Logos collections include all the dependencies\n",
    "* Strategy:\n",
    "    * Read list of expected files\n",
    "    * Read list of actual files\n",
    "    * Compare the two lists, reporting discrepancies"
   ]
  },
  {
   "cell_type": "code",
   "execution_count": null,
   "metadata": {
    "collapsed": true,
    "slideshow": {
     "slide_type": "subslide"
    }
   },
   "outputs": [],
   "source": [
    "# first version\n",
    "def get_file_dict(listfiles):\n",
    "    \"\"\"Takes the list of the files expected to be in the Resources folder and makes a dictionary. \n",
    "    \"\"\"\n",
    "    file_dict = dict()\n",
    "    fin = open('listfiles.txt')\n",
    "    line = fin.readline()\n",
    "    for line in fin:\n",
    "        file_name = line.strip()\n",
    "        file_dict[file_name] = 'not found'\n",
    "    return file_dict"
   ]
  },
  {
   "cell_type": "markdown",
   "metadata": {
    "slideshow": {
     "slide_type": "fragment"
    }
   },
   "source": [
    "* Bug\n",
    "* improvement: `line` variables\n",
    "* improvement: `file_dict` name, value"
   ]
  },
  {
   "cell_type": "code",
   "execution_count": null,
   "metadata": {
    "collapsed": true,
    "slideshow": {
     "slide_type": "subslide"
    }
   },
   "outputs": [],
   "source": [
    "# second version\n",
    "def get_expected_files(listfiles):\n",
    "    \"\"\"Takes the list of the files expected to be in the Resources folder and makes a dictionary. \n",
    "    \"\"\"\n",
    "    expected_files = dict()\n",
    "    fin = open(listfiles)\n",
    "    # drop first line\n",
    "    fin.readline()\n",
    "    for line in fin:\n",
    "        file_name = line.strip()\n",
    "        expected_files[file_name] = None\n",
    "    return expected_files\n",
    "# test is now: if expected_files.get(filename)"
   ]
  },
  {
   "cell_type": "markdown",
   "metadata": {
    "slideshow": {
     "slide_type": "subslide"
    }
   },
   "source": [
    "## Class-based Improvements\n",
    "* `write_report()` and `add_list()`\n",
    "    * could distinguish collecting data from outputting it\n",
    "* Three kinds of file lists: Missing, Extra, Found\n",
    "    * Each have their own list\n",
    "    * Each have a different line in the report"
   ]
  },
  {
   "cell_type": "code",
   "execution_count": null,
   "metadata": {
    "collapsed": false,
    "slideshow": {
     "slide_type": "subslide"
    }
   },
   "outputs": [],
   "source": [
    "class Filelist(object):\n",
    "    resources = []\n",
    "    condition = ''\n",
    "    \n",
    "# next week we'll see how to initialize these when creating them\n",
    "found_resources = Filelist()\n",
    "found_resources.condition = 'Found'\n",
    "notfound_resources = Filelist()\n",
    "notfound_resources.condition = 'Not Found'\n",
    "extra_resources = Filelist()\n",
    "extra_resources.condition = 'Extra'\n",
    "\n",
    "def report_filelist(outstr, filelist):\n",
    "    outstr.write('%s resources:\\n' % filelist.condition)\n",
    "    filelist.resources.sort()\n",
    "    for name in filelist.resources:\n",
    "        outstr.write(name + '\\n')\n",
    "    outstr.write('\\n')\n",
    "\n",
    "import sys\n",
    "found_resources.resources.append('foo')\n",
    "report_filelist(sys.stdout, found_resources)"
   ]
  },
  {
   "cell_type": "markdown",
   "metadata": {
    "slideshow": {
     "slide_type": "slide"
    }
   },
   "source": [
    "## Additional Resources\n",
    "\n",
    "* <img src=\"bd.png\" style=\"display: inline;\" /><img src=\"bd.png\" style=\"display: inline;\" />[Special Method Names for Classes](https://docs.python.org/2.7/reference/datamodel.html?highlight=__cmp__#special-method-names)"
   ]
  }
 ],
 "metadata": {
  "celltoolbar": "Slideshow",
  "kernelspec": {
   "display_name": "Python 2",
   "language": "python",
   "name": "python2"
  },
  "language_info": {
   "codemirror_mode": {
    "name": "ipython",
    "version": 2
   },
   "file_extension": ".py",
   "mimetype": "text/x-python",
   "name": "python",
   "nbconvert_exporter": "python",
   "pygments_lexer": "ipython2",
   "version": "2.7.9"
  }
 },
 "nbformat": 4,
 "nbformat_minor": 0
}
